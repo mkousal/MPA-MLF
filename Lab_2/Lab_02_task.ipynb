{
 "cells": [
  {
   "cell_type": "markdown",
   "metadata": {
    "id": "C-21fWV3gpy6"
   },
   "source": [
    "# MPA-MLF, Lab 2 - K-means"
   ]
  },
  {
   "cell_type": "markdown",
   "metadata": {
    "id": "6cikjYH7K-ii"
   },
   "source": [
    "K-means is one of the most popular unsupervised machine learning algorithms, well known for its simplicity. This algorithm aims to separate unlabeled data into different clusters(subgroups) with the number of clusters represented by the variable *K*. Data points in the same cluster are very similar, while data points in different clusters are very different. The similarity of data is based on some similarity metric, where the similarity metric can be distance-based, correlation-based, etc. "
   ]
  },
  {
   "cell_type": "markdown",
   "metadata": {
    "id": "_pD3IaoiK-ii",
    "tags": []
   },
   "source": [
    "In our case, we will use distance-based metrics. Any distance-based metrics for numeric variables can be employed, for example: \n",
    " - Euclidean distance\n",
    " - Manhattan distance\n",
    " - Cosine similarity\n"
   ]
  },
  {
   "cell_type": "markdown",
   "metadata": {
    "id": "_fmfC5AKK-ij"
   },
   "source": [
    "There is an example how K-means works:"
   ]
  },
  {
   "cell_type": "markdown",
   "metadata": {
    "id": "z1ASVNX8K-ij"
   },
   "source": [
    "1. Imagine you have a bunch of dots scattered on a piece of paper. These dots represent data points, and the goal of the k-means algorithm is to group similar dots into clusters\n",
    "\n",
    "2. To start, you randomly select *k* dots from the scatter plot and assign each one to be the center of a cluster. These *k* dots are called centroids.\n",
    "\n",
    "3. Then, you calculate the distance between each dot and each centroid and assign each dot to the closest centroid, effectively grouping the dots into k clusters.\n",
    "\n",
    "4. Next, you recalculate the centroid of each cluster by finding the average position of all the dots in that cluster.\n",
    "\n",
    "5. Repeat steps 3 and 4 until the centroids no longer change, meaning the clusters have stabilized.\n",
    "\n",
    "6. Finally, the algorithm outputs the k clusters and the corresponding centroids.\n"
   ]
  },
  {
   "cell_type": "markdown",
   "metadata": {
    "id": "uCbb-8A0K-ij"
   },
   "source": [
    "In our case, we would use a Euclidian distance as a metric. Mathematically speaking, the goal would be to minimalize the following objective function:"
   ]
  },
  {
   "cell_type": "markdown",
   "metadata": {
    "id": "5Fto9kZ7K-ik"
   },
   "source": [
    "![image.png](data:image/png;base64,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)"
   ]
  },
  {
   "cell_type": "markdown",
   "metadata": {
    "id": "ZKDn18oyK-ik"
   },
   "source": [
    "where: \n",
    "   - *k* represents number of clusters (groups)\n",
    "   - *m* represents number of points\n",
    "   - u_k represents centroids\n",
    "   - x_i represents data point\n",
    "   - w_ik represents weight where wik=1 for data point xi if it belongs to cluster k; otherwise, wik=0."
   ]
  },
  {
   "cell_type": "markdown",
   "metadata": {
    "id": "7Q9Rtq7GK-ik"
   },
   "source": [
    "There are some typical applications of using k-means:\n",
    "- Customer Segmentation: k-means can segment customers based on their demographic information or purchase behavior. This information can then be used for targeted marketing or to improve the customer experience.\n",
    "\n",
    "- Image Compression: k-means can reduce the number of colors in an image while preserving its visual quality. This is done by replacing similar color pixels with a single color, thereby reducing the amount of data required to represent the image.\n",
    "\n",
    "- Anomaly Detection: k-means can be used to identify outliers or anomalies in a dataset by clustering similar data points and identifying data points far from the centroids of their respective clusters.\n",
    "\n",
    "- Document Clustering: k-means can cluster documents based on their content, for example, to group news articles by topic or categorize customer support tickets.\n",
    "\n",
    "- Market Segmentation: k-means can be used to segment a market based on customer characteristics, such as age, income, or spending habits, in order to identify subgroups of customers with similar needs or preferences.\n"
   ]
  },
  {
   "cell_type": "markdown",
   "metadata": {
    "id": "bcb77ueUK-il"
   },
   "source": [
    "Recomended sources:\n",
    " - https://towardsdatascience.com/log-book-guide-to-distance-measuring-approaches-for-k-means-clustering-f137807e8e21\n",
    " - https://towardsdatascience.com/understanding-k-means-clustering-in-machine-learning-6a6e67336aa1\n",
    " - https://realpython.com/k-means-clustering-python/\n",
    " - https://medium.com/@rishit.dagli/build-k-means-from-scratch-in-python-e46bf68aa875\n",
    " - https://towardsdatascience.com/k-means-clustering-algorithm-applications-evaluation-methods-and-drawbacks-aa03e644b48a\n",
    " - https://scikit-learn.org/stable/modules/generated/sklearn.cluster.KMeans.html"
   ]
  },
  {
   "cell_type": "markdown",
   "metadata": {
    "id": "5ZRd4H_Sai6E",
    "tags": []
   },
   "source": [
    "# Exercise 1 - K-means from scratch"
   ]
  },
  {
   "cell_type": "markdown",
   "metadata": {
    "id": "mVsr4KtgK-il",
    "tags": []
   },
   "source": [
    "## Implementing K-means"
   ]
  },
  {
   "cell_type": "markdown",
   "metadata": {
    "id": "t_jfQ0GcK-im"
   },
   "source": [
    "In this exercise, the task would be to implement a simple k-means algorithm from scratch, as described above. Let's rewrite the steps to be more readily implementable"
   ]
  },
  {
   "cell_type": "markdown",
   "metadata": {
    "id": "LEJg-8EFan5I"
   },
   "source": [
    "### Steps:\n",
    "  1. Specify the number of clusters *K*\n",
    "  2. initialize centroids\n",
    "  3. calculate the distance from centroids to all points in datasets\n",
    "  4. assign data points to the closest centroids\n",
    "  5. calculate objective function\n",
    "  6. compute new centroids to the clusters by taking the average of all data points that belong to each cluster\n",
    "  7. repeat steps 2-6. until there is no change in objective function or until the maximum n of iterations is reached\n"
   ]
  },
  {
   "cell_type": "markdown",
   "metadata": {
    "id": "SH78e3GQK-im"
   },
   "source": [
    "Tips: \n",
    "- Try to avoid using loops what if it is not necessary, instead of using loops, use numpy functions. There is a list of numpy functions that you might find usefull:\n",
    "    - np.argmin()\n",
    "    - np.where()\n",
    "    - np.transpose()\n",
    "    - np.random.permutation()\n",
    "    - np.random.schuffle()\n",
    "    - np.linalg.norm()\n",
    "    - np.arange()\n",
    "    - np.split()\n",
    "    - np.random.choice()\n",
    "\n",
    "\n",
    "- Since the initial clusters are selected randomly, so the algorithm can lead to different results each time its runned. To obtain the best results, it is helpful to run the algorithm multiple times and select result with the lowest objective function\n"
   ]
  },
  {
   "cell_type": "code",
   "execution_count": 48,
   "metadata": {
    "id": "V8z6tNbkgSkc"
   },
   "outputs": [],
   "source": [
    "import matplotlib.pyplot as plt\n",
    "import copy\n",
    "import numpy as np"
   ]
  },
  {
   "cell_type": "markdown",
   "metadata": {
    "id": "p-trMw-9gk5U"
   },
   "source": [
    "### 0. Generate dataset"
   ]
  },
  {
   "cell_type": "markdown",
   "metadata": {
    "id": "QYHc8aLdK-in"
   },
   "source": [
    "To generate a dataset. You can use a function provided in the following block or you can create your own"
   ]
  },
  {
   "cell_type": "code",
   "execution_count": 49,
   "metadata": {
    "colab": {
     "base_uri": "https://localhost:8080/",
     "height": 282
    },
    "executionInfo": {
     "elapsed": 419,
     "status": "ok",
     "timestamp": 1675946361825,
     "user": {
      "displayName": "Jan Bolcek",
      "userId": "11245949610672084450"
     },
     "user_tz": -60
    },
    "id": "8reNm8nWgR6F",
    "outputId": "85124c00-e29f-4375-98e4-70f3980b7bf2"
   },
   "outputs": [
    {
     "data": {
      "text/plain": [
       "<matplotlib.collections.PathCollection at 0x1feef55dfa0>"
      ]
     },
     "execution_count": 49,
     "metadata": {},
     "output_type": "execute_result"
    },
    {
     "data": {
      "image/png": "[encoded data removed]",
      "text/plain": [
       "<Figure size 640x480 with 1 Axes>"
      ]
     },
     "metadata": {},
     "output_type": "display_data"
    }
   ],
   "source": [
    "def split_points(points: np.array, n_of_point_groups: int) -> np.array:\n",
    "    changed_points = copy.copy(points)\n",
    "    index = np.arange(len(points))\n",
    "    groups_index = np.split(index, n_of_point_groups)\n",
    "    \n",
    "    for id_group,group_index in enumerate(groups_index):\n",
    "        changed_points[group_index] = points[group_index] + 5*id_group\n",
    "    \n",
    "    return changed_points\n",
    "    \n",
    "\n",
    "#generate points\n",
    "\n",
    "n_of_points = 60\n",
    "points = np.random.rand(n_of_points,2) * 5 \n",
    "points = split_points(points, 3)\n",
    "\n",
    "plt.figure()\n",
    "plt.scatter(points[:,0],points[:,1])"
   ]
  },
  {
   "cell_type": "markdown",
   "metadata": {
    "id": "Awr2f7NEK-io"
   },
   "source": [
    "### 1. Specify number of clusters *K*"
   ]
  },
  {
   "cell_type": "code",
   "execution_count": 50,
   "metadata": {
    "id": "fCTWnf6xK-io"
   },
   "outputs": [],
   "source": [
    "k = 3"
   ]
  },
  {
   "cell_type": "markdown",
   "metadata": {
    "id": "aKp_0dVwK-io"
   },
   "source": [
    "### 2. initialize centroids"
   ]
  },
  {
   "cell_type": "markdown",
   "metadata": {
    "id": "uZh6n3SyK-io"
   },
   "source": [
    "There are more techniques, on how to change initial centroids. In out case, we will take all available points and shuffle them randomly, then we will choose first *k* points as initial centroids"
   ]
  },
  {
   "cell_type": "code",
   "execution_count": 51,
   "metadata": {
    "id": "IfS7FqFfK-ip"
   },
   "outputs": [],
   "source": [
    "def initialize_clusters(points: np.array, k_clusters: int) -> np.array:\n",
    "    index = np.arange(len(points))\n",
    "    index = np.random.choice(index, k_clusters)\n",
    "    k_points = points[index]\n",
    "    return k_points\n",
    "\n",
    "#centroids = initialize_clusters(points, k)\n"
   ]
  },
  {
   "cell_type": "markdown",
   "metadata": {
    "id": "IvEwTV4hK-ip"
   },
   "source": [
    "### 3. Calculate distance from centroids to all points in datasets"
   ]
  },
  {
   "cell_type": "markdown",
   "metadata": {
    "id": "nK_1GAUPK-ip"
   },
   "source": [
    "3.1 Fistly, create a function to calculate distance from one centroid to all points in the dataset"
   ]
  },
  {
   "cell_type": "code",
   "execution_count": 52,
   "metadata": {
    "id": "grjepbyUK-ip"
   },
   "outputs": [],
   "source": [
    "def calculate_metric(points: np.array, centroid: np.array) -> np.array:\n",
    "    metric = np.square(np.linalg.norm(points-centroid, axis=1))\n",
    "    return metric\n",
    "\n",
    "#calculate_metric(points, centroids[0])\n"
   ]
  },
  {
   "cell_type": "markdown",
   "metadata": {
    "id": "b5SXLhlRK-ip"
   },
   "source": [
    "3.2 Secondly, create a function to calculate distance between points and all centroids using function from 3.1"
   ]
  },
  {
   "cell_type": "code",
   "execution_count": 53,
   "metadata": {
    "id": "8Z1VlV_5K-ip"
   },
   "outputs": [],
   "source": [
    "def compute_distances(points: np.array, centroids_points: np.array) -> np.array:\n",
    "    distances = np.asarray([calculate_metric(points, centroid) for centroid in centroids_points])\n",
    "    return distances\n",
    "\n",
    "#dists = compute_distances(points, centroids)"
   ]
  },
  {
   "cell_type": "markdown",
   "metadata": {
    "id": "hvJk9aKCK-ip"
   },
   "source": [
    "### 4. Assign datapoints to the closest centroids"
   ]
  },
  {
   "cell_type": "code",
   "execution_count": 54,
   "metadata": {
    "id": "MO3gSHiMK-iq"
   },
   "outputs": [],
   "source": [
    "def assign_centroids(distances: np.array) -> np.array:\n",
    "    return np.argmin(distances, axis=0) # priradim bod centroidu, ktery je nejblize (ma nejmensi vzdalenost) od centroidu\n",
    "\n",
    "#assign_cluster = assign_centroids(dists)"
   ]
  },
  {
   "cell_type": "markdown",
   "metadata": {},
   "source": [
    "### 5. Calculate objective function"
   ]
  },
  {
   "cell_type": "code",
   "execution_count": 55,
   "metadata": {},
   "outputs": [],
   "source": [
    "def calculate_objective(cluster_belongs: np.array, distances: np.array) -> np.array:\n",
    "    dist_sum = np.sum(distances.T[np.arange(len(distances.T)), cluster_belongs])  # funkce podle zadani vyse  \n",
    "    return dist_sum\n",
    "\n",
    "#calculate_objective(assign_cluster, dists)"
   ]
  },
  {
   "cell_type": "markdown",
   "metadata": {
    "id": "hLOwuoYNK-iq"
   },
   "source": [
    "### 6. Compute new controids to the clusters by taking the average of the all data points that belong to each cluster"
   ]
  },
  {
   "cell_type": "code",
   "execution_count": 56,
   "metadata": {
    "id": "veCrqX7CK-iq"
   },
   "outputs": [],
   "source": [
    "def calculate_new_centroids(points: np.array, clusters_belongs: np.array, n_of_clusters: int) -> np.array:\n",
    "    cluster_new = []\n",
    "    for cluster_id in range(n_of_clusters):             # projdi vsechny clustery\n",
    "        j = np.where(clusters_belongs == cluster_id)    # pokud resim aktualni cluster\n",
    "        points_sel = points[j]                          # vyberu si jeho body\n",
    "        cluster_new.append(np.mean(points_sel, axis=0)) # spocitam prumer techto vybranych bodu -> novy stred clusteru\n",
    "    return np.array(cluster_new)"
   ]
  },
  {
   "cell_type": "markdown",
   "metadata": {
    "id": "bjke3pHhK-iq"
   },
   "source": [
    "###   7. repeat steps 2-6. until there is no change in objective function or until the maximum n of iterations is reached"
   ]
  },
  {
   "cell_type": "code",
   "execution_count": 57,
   "metadata": {
    "id": "PIfMSTDqK-iq"
   },
   "outputs": [
    {
     "data": {
      "image/png": "[encoded data removed]",
      "text/plain": [
       "<Figure size 640x480 with 1 Axes>"
      ]
     },
     "metadata": {},
     "output_type": "display_data"
    }
   ],
   "source": [
    "def fit(points: np.array, n_of_centroids: int, n_of_iterations: int, error: float = 0.001) -> tuple:\n",
    "    centroid_points = initialize_clusters(points, n_of_centroids)\n",
    "    last_objective = 10000\n",
    "    \n",
    "    for i in range(n_of_iterations):\n",
    "        dists = compute_distances(points, centroid_points)\n",
    "        cluster_assignment = assign_centroids(dists)\n",
    "\n",
    "        objective = calculate_objective(cluster_assignment, dists)\n",
    "\n",
    "        if abs(last_objective - objective) < error:\n",
    "            break\n",
    "\n",
    "        last_objective = objective\n",
    "\n",
    "        centroid_points = calculate_new_centroids(points, cluster_assignment, n_of_centroids)\n",
    "    \n",
    "    return centroid_points, last_objective\n",
    "\n",
    "c, l = fit(points, k, 1000)\n",
    "plt.figure()\n",
    "plt.scatter(points[:,0],points[:,1])\n",
    "plt.scatter(c[:,0], c[:,1])\n",
    "plt.show()\n",
    "\n"
   ]
  },
  {
   "cell_type": "markdown",
   "metadata": {
    "id": "PDztjoEnK-iq",
    "tags": []
   },
   "source": [
    "### All together"
   ]
  },
  {
   "cell_type": "code",
   "execution_count": 58,
   "metadata": {
    "id": "Lqv5JrnxK-iq"
   },
   "outputs": [
    {
     "name": "stdout",
     "output_type": "stream",
     "text": [
      "Last value of objective function: 260.8123590251379\n"
     ]
    },
    {
     "data": {
      "image/png": "[encoded data removed]",
      "text/plain": [
       "<Figure size 640x480 with 1 Axes>"
      ]
     },
     "metadata": {},
     "output_type": "display_data"
    }
   ],
   "source": [
    "k = 3\n",
    "n_of_points = 60\n",
    "\n",
    "points = np.random.rand(n_of_points,2) * 5 \n",
    "points = split_points(points, 3)\n",
    "\n",
    "def split_points(points: np.array, n_of_point_groups: int) -> np.array:\n",
    "    changed_points = copy.copy(points)\n",
    "    index = np.arange(len(points))\n",
    "    groups_index = np.split(index, n_of_point_groups)\n",
    "    \n",
    "    for id_group,group_index in enumerate(groups_index):\n",
    "        changed_points[group_index] = points[group_index] + 5*id_group\n",
    "    \n",
    "    return changed_points\n",
    "\n",
    "def initialize_clusters(points: np.array, k_clusters: int) -> np.array:\n",
    "    index = np.arange(len(points))\n",
    "    index = np.random.choice(index, k_clusters)\n",
    "    k_points = points[index]\n",
    "    return k_points\n",
    "\n",
    "def calculate_metric(points: np.array, centroid: np.array) -> np.array:\n",
    "    metric = np.square(np.linalg.norm(points-centroid, axis=1))\n",
    "    return metric\n",
    "\n",
    "def compute_distances(points: np.array, centroids_points: np.array) -> np.array:\n",
    "    distances = np.asarray([calculate_metric(points, centroid) for centroid in centroids_points])\n",
    "    return distances\n",
    "\n",
    "def assign_centroids(distances: np.array) -> np.array:\n",
    "    return np.argmin(distances, axis=0) # priradim bod centroidu, ktery je nejblize (ma nejmensi vzdalenost) od centroidu\n",
    "\n",
    "def calculate_objective(cluster_belongs: np.array, distances: np.array) -> np.array:\n",
    "    dist_sum = np.sum(distances.T[np.arange(len(distances.T)), cluster_belongs])  # funkce podle zadani vyse  \n",
    "    return dist_sum\n",
    "\n",
    "def calculate_new_centroids(points: np.array, clusters_belongs: np.array, n_of_clusters: int) -> np.array:\n",
    "    cluster_new = []\n",
    "    for cluster_id in range(n_of_clusters):             # projdi vsechny clustery\n",
    "        j = np.where(clusters_belongs == cluster_id)    # pokud resim aktualni cluster\n",
    "        points_sel = points[j]                          # vyberu si jeho body\n",
    "        cluster_new.append(np.mean(points_sel, axis=0)) # spocitam prumer techto vybranych bodu -> novy stred clusteru\n",
    "    return np.array(cluster_new)\n",
    "\n",
    "def fit(points: np.array, n_of_centroids: int, n_of_iterations: int, error: float = 0.001) -> tuple:\n",
    "    centroid_points = initialize_clusters(points, n_of_centroids)\n",
    "    last_objective = 10000\n",
    "    \n",
    "    for i in range(n_of_iterations):\n",
    "        dists = compute_distances(points, centroid_points)\n",
    "        cluster_assignment = assign_centroids(dists)\n",
    "\n",
    "        objective = calculate_objective(cluster_assignment, dists)\n",
    "\n",
    "        if abs(last_objective - objective) < error:\n",
    "            break\n",
    "\n",
    "        last_objective = objective\n",
    "\n",
    "        centroid_points = calculate_new_centroids(points, cluster_assignment, n_of_centroids)\n",
    "    \n",
    "    return centroid_points, last_objective\n",
    "\n",
    "c, l = fit(points, k, 1000)\n",
    "print(\"Last value of objective function: \" + str(l))\n",
    "plt.figure()\n",
    "plt.scatter(points[:,0],points[:,1])\n",
    "plt.scatter(c[:,0], c[:,1])\n",
    "plt.show()\n",
    "\n"
   ]
  },
  {
   "cell_type": "markdown",
   "metadata": {
    "id": "-WivOwJ6K-iq"
   },
   "source": [
    "# Evaluation methods - How to determine *k*?"
   ]
  },
  {
   "cell_type": "markdown",
   "metadata": {
    "id": "ui3Ad9p-K-ir"
   },
   "source": [
    "One of the disadvantages of using k-means is that it requires a number of centroids *k* as an input, and it is not usually that obvious, there are some methods that exist to choose the right number of centroids at the beginning. In this part of a lecture, we would describe two methods to choose the right *k* value, *Elbow method* and *Silhouette analysis*"
   ]
  },
  {
   "cell_type": "markdown",
   "metadata": {
    "id": "8Eew0xmqK-ir"
   },
   "source": [
    "## Elbow method"
   ]
  },
  {
   "cell_type": "markdown",
   "metadata": {
    "id": "8GSTn_FQK-ir"
   },
   "source": [
    "The Elbow Method is a technique used in determining the optimal number of clusters for k-means clustering. The basic idea is to plot the explained variation as a function of the number of clusters and pick the elbow of the curve as the number of clusters to use. In the picture below you can see that the best *k* value is 3"
   ]
  },
  {
   "cell_type": "markdown",
   "metadata": {
    "id": "vYvBir_8K-ir"
   },
   "source": [
    "![image.png](data:image/png;base64,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) ![image.png](data:image/png;base64,iVBORw0KGgoAAAANSUhEUgAAAcQAAAEKCAIAAAAD37KMAAAgAElEQVR4Ae2dC1QT17rHu9Zx3XV7vb3tvdhje9rKJOEhhJdYONbW1iJaW3qqVqRqW180oiIerYq2pxUrVLRU6xMP9f2oVqv2EQJCVcpbDYgoqKCAAo0IJDwDgSSz70pGYghJyISZ7ADfXl2yZ+893/72b8/3704ms+cJBAkIAAEgAAT6TOCJPlsAA0AACAABIIBATOEiAAJAAAgwQADElAGIYAIIAAEgAGIK1wAQAAJAgAECIKYMQAQTQAAIAAEQU7gGgAAQAAIMEAAxZQAimAACQAAIgJjCNQAEgAAQYIAAiCkDEMEEEAACQGCAi6mDg8NoSEAACAwCAsOGDcMr6ANcTEePHo2XL/QOBICAbQhgD3YQU9tMNPQCBIAAuwRATAc4X3aHB9aBABDoIgBi2kWCnb/Y+bIzLLAKBICAIQHswQ4f8w2nBI6BABDojwRATNmdNex82R0eWAcCQKCLAPZgh5Vp11TAXyAABPozARBTdmcPO192hwfWgQAQ6CKAPdhhZfpoKs7ffLj99ztd8wJ/gQAQ6GcEQEzZnTDL+a7/5SZvcWKrQsmuQ2AdCAABdghYHuzs9D/QX1tiOd/023WEQJhSVMMSaDALBIAAqwQsD3aW3ICP+Y/AtneqnJeKPjt1gyXQYBYIAAFWCYCYsooX0eI7K/7yq1EX2XUIrAMBIMAOAVrBzoYLsDJ9TDUhrZwQCO/Xyx8XQQ4IAIF+QgDElN2JosW3tKaFEAgPZt5j1yewDgSAAAsEaAU7C/3DDSg9qCRJ+n9+fl6CWK8MskAACPQPAiCm7M4TXb4rTxS6LUvuVKnZdQusAwEgwDQBusHOdP+wMu1OVFggIQTC3LvS7sVwBASAgL0TADFld4bo8m1o6+QuStyUeJtdt8A6EAACTBOgG+xM9w8r0x5E//Ft1tubMnoUQwEQAAJ2TQDElN3psYLvt0mlRJiwvqWDXc/AOhAAAowSsCLYGe0fVqY9cOZVyAiB8Gz+nz1qoAAIAAH7JQBiyu7cWMFXpSY9Pj237Og1dj0D60AACDBKwIpgZ7R/WJkaw/nJgXzftakkSRqrhDIgAATskQCIKbuzYh3f4zmVhEBYLGli1zmwDgSAAHMErAt25vqHlakxln82tBEC4e4Ld41VQhkQAAL2SADElN1ZsZrv+Oi0kB257DoH1oEAEGCOgNXBzpQLsGuUcZJRZ4qdlojaFCrj1VAKBICAnREAMWV3Qqzmm3arlhAIf7/5kF3/wDoQAAIMEbA62Bnqn83vTOfPn//ss8/y+XzK11WrVrm6unp6ek6dOrWhoYEq3LhxI4/Hc3FxOXfuHFWSnJzs4uLC4/FiY2OpkvLycn9/fx6PFxIS0tGh+S29QqEICQnh8Xj+/v4VFRVUM6P/Ws1Xs/H+EtG/ThcZNQuFQAAI2BsBq4OdqYGw+DE/PT09Pz9fJ6YpKSlKpeZ1dZHahBAqLi728vJSKBTl5eVcLlelTVwut6ysrKOjw8vLq7i4GCE0Y8aMEydOIITCwsLi4+MRQrt37w4LC0MInThxIiQkxAyLvvCduevyuPWw8b4ZulAFBOyIQF+CnZFhsCimCKGKigqdmOrcPXv27OzZsxFCG7WJKp80aVKONk2aNIkqoWpJknRwcKBUOCcnh6qlGiOElEqlg4ODmR+E9oXvnotlhEBYJWvTeQ4ZIAAE7JZAX4KdkUFhENN333336NGjCKHw8HAqgxBasGDBT9oUGhpKDezIkSPh4eF1dXU8Ho8qqayspKSZz+dXVVVRhVwut66uzoBFQkLCaG0aMWKEQZXlhyUPmgmB8EjOfctPgZZAAAjgIjDoxDQmJmbq1KnUWpI9MdVNZ1/4kiT58me/h+7N01mDDBAAAnZLoC/BzsigbLoyPXjw4JgxY+TyR2+ss/OP+QihFccK3ZYnK2HjfUauNTACBNgkMIjENDk52c3Nrba2VsezqKhIdwOKw+GoVCqlUsnhcMrLy6kbUEVFmpvpwcHBuhtQu3fvRgjt2rVLdwNqxowZOoM9M33k++tVzcb7Vypg4/2eaKEECNgXgT4Ge98Hw+LKdObMmc8999yQIUNeeOGFffv28Xi8F1980VubKClECMXExHC5XBcXl6SkJGowIpHI2dmZy+XGxMRQJWVlZX5+fjweLzg4WKFQIITa29uDg4N5PJ6fn19ZWZkZCn3kK5N3cMKEm0UlZrqAKiAABOyBQB+Dve9DYFFM++5c3y30ne87mzPf2ZzZd0/AAhAAAqwS6Huw99E9ENNeAG4WlXDChDI5bLzfCyioBgJ4CYCYssu/73yvVEgJgfCXq7DxPrszBdaBQB8J9D3Y++gArEx7AahUqd2WJy8/Bhvv9wIKqoEAXgIgpuzyZ4Rv6N68l9f8buY5K3bHANaBABCwgAAjwW5BPyabwMrUJBpdxZGc+4RAeOtBs64EMkAACNgbARBTdmeEEb5VMs3G+3sumvsNFrvDAOtAAAj0RoCRYO+tE3P1sDI1R0dXN279xQ92XtIdQgYIAAF7IwBiyu6MMMX3X6eLnJeI2jth43125wusAwGrCTAV7FY7ACtTi9D9fvMhIRBeuPX4WViLToNGQAAI2IoAiCm7pJni26ZQOS0RfXlGs1k1JCAABOyQAFPBbvXQaK9M5XL5hg0bPvnkE4RQaWmpUCi0um8bnMgg35AduW98lWYDn6ELIAAErCDAYLBb0TtC9N8BFRISsnnzZmqTZrlc7u3tbV3HtjmLQb67L9wlBMJq2HjfNjMHvQABmgQYDHaaPT9qTntlSnns4+NDGfDy8rKuY9ucxSDfYkkTIRAey4WN920zddALEKBHgMFgp9dxV2vaYvrKK6+0tbWNGjUKIXT37l0/P78uU/b4l0G+JEn6rk0V7Mu3x3GCT0Bg0BNgMNitY0lbTFNTU19//fVhw4bNnj3b0dExLc2uv0Zklu+yo9f4K86p1KR1rOEsIAAE2CPAbLBb4SdtMUUI1dfXJyYmCoXCnm+ys8IDVk9hlu/Z/D8JgVBcIWPVZzAOBICAFQSYDXYrHKAtpmfPnm1sbKR6amho+Pnnn63o1WanMMtX2tJBhAnjkmDjfZtNIHQEBCwlwGywW9qrXjvaYmpw+153J0rPph1lGef79qaMd+Ng4307mmJwBQhQBBgPdrpgaYupp6enfh8eHh76h/aWZ5zvpsTbnDBhY2unvY0U/AECg5wA48FOlydtMZ0/f/6KFSvuatOKFSvmzp1Lt0tbtmec76UyKSEQCgskthwF9AUEgECvBBgP9l57NGhAW0xbW1vXrFkzWpvWrl3b2tpqYNGuDhnn26lSuy9LXnmi0K6GCc4AASDAeLDTRUpbTOl2gLc9G3znfy/2//w8bLyPd2ahdyBgQICNYDfowvwhbTEtKSkRCAQTJ058syuZ7wBvLRt8D2XfIwTC0poWvEOD3oEAENAnwEaw69vvNU9bTL28vOLj4y9fvpzXlXrtA2MDNvjer5cTAmFCWjnGcUHXQAAIGBBgI9gNujB/SFtMfX19zVu0q1qW+I6Lujgr/rJdjRScAQKDnABLwW45VdpiGhUVtXv3bolEIu1KpjqbP3/+s88+S+0vhRCSSqWBgYFOTk6BgYEymeYhIpIkIyIieDyep6dnfv6jZ94PHTrkpE2HDh2iLOfl5Xl4ePB4vIiICOqbyp6mTPnAEt/PfypyXgob75uiDuVAAAMBloLd8pHQFlOie+JwOKY6S09Pz8/P14np6tWrY2NjEUKxsbGRkZEIIZFINHnyZJIkc3Nz/f39KcHlcDhSqVQmk3E4HEpz/fz8cnNzSZKcPHlyUlISQqinKVM+sMQ3tbiGEAjTb9eZ6hfKgQAQsDEBloLd8lHQFlPLTSOEKioqdGLq4uIikWh+nimRSFxcXBBCCxcuPH78OGWQqj1+/PjChQupEqpWIpG4urpSJbranqZMecUSX3mH0nmxaP0vN031C+VAAAjYmABLwW75KKwR0xs3bpw8efJwVzLTmb6YPv3001RLkiSpfFBQUGbmo0czAwICxGJxXFxcdHQ01WzDhg1xcXFisXjChAlUSUZGRlBQEEKopykDHxISEqhfwo4YMcKgiqnD4O05AdF/MGUN7AABINBHAv1PTNevXz9+/Pi//vWv8+bNGz58+PTp080gMCqmCKFnnnkGIdR3MdWZMuUDe3x3ntdsvP+gsd1U11AOBICALQmwF+wWjoL2ytTDw0OtVlMb7NfU1AQGBprpSV9Me342778f8xFCN6o0G++fuFRpZvhQBQSAgM0I9D8xpbbW9/X1bWpqIklS94WmUWT6Yrpq1SrdDajVq1cjhBITE3U3oCizUqmUIAiZNhEEIZVKEUL6N6BEIhFCqKcpo70jhNjjS5KkT2Rq2MGrprqGciAABGxJgL1gt3AUtFemixcvbmho2LNnj5OTk4+Pz7x580z1NHPmzOeee27IkCEvvPDCvn376uvrAwICnJycJkyYQKkkSZJLlizhcrkeHh5isZiys3//fp42HThwgCoRi8V8Pp/L5YaHh1M/jeppypQPrPJdeqTA81PYeN8UeygHAjYlwGqwWzIS2mKqM1pRUVFYaO/7fbDK90xeNSEQXr3XoGMCGSAABHARYDXYLRkUbTENCAjQt2twqF9lD3lW+dY1K4gw4dbkUnsYKfgABAY5AVaD3RK2NMS0vb1dKpV6eXnJZDLq6aeKigrz35la4gGrbdjm+1ZsxpQtWawOAYwDASBgCQG2g71XH2iI6bZt2wiC+I//+A8Oh0M9BuXl5bVz585e+8DYgG2+X/92i7sosbEdNt7HOMnQNRDQEGA72HulTENMKVs7duzo1aj9NGCbb/adekIgTLz2wH6GDJ4AgcFJgO1g75UqbTE9depUc3MzQig6OnratGm6DUp67QlLA7b5dijVIyOSVv14HcvooFMgAAR0BNgOdl1HpjK0xZR6oV5mZuYbb7yRmJhIbVBiyjr2chvwnbNH/Pd/wcb72KcaHBjsBGwQ7OYR0xZT6t3Oa9eu/eGHHxBCg+1Vzz1pHsioIATCuw9h4/2ebKAECNiOQP8T06CgoIULF3I4nIaGBoVCQT1XajtgNHuyAd+KulZCINz7B2y8T3NuoDkQYJSADYLdvL+0V6ZyufzMmTOlpZofV0okkpSUFPMd4K21Dd9X1l34KP4K3pFC70BgkBOwTbCbgUxDTJuamqj9m7u22H/014x17FW24bvm5A3X8CSFUoV9vOAAEBi0BGwT7Gbw0hBTai9RgiB0vzOl8masY6+yDd/k65qN9zNLYON97BMODgxeArYJdjN8aYipGSt2W2Ubvs0KJW9R4le/wsb7dnshgGMDn4Btgt0MRxpimm8imbGOvcpmfKdtzZ7wdTr28YIDQGDQErBZsJsiTENMx2vTmDFjhgwZMnr0aF9f3yFDhowZM8aUaXsotxnfbal3CIGwphk23reHaQcfBiMBmwW7Kbg0xJQyMW3atOvXHz3wc+PGDfOvLTHVq83Kbca3sLKREAhPXq6y2dCgIyAABPQJ2CzY9TvVz9MWU3d3d/3zDQ71q+whbzO+ajXpvTJl8SHYeN8eph18GIwEbBbspuDSFtOZM2eGhoamadMnn3wyc+ZMU6btodyWfJccuuq1MkWtJu1h4OADEBhsBGwZ7EbZ0hbT9vb2rVu3TtWmrVu3trfb9beEtuR76koVIRBeu99oFDQUAgEgwCoBWwa70YHQFlOjVuy20JZ8HzYpCIFwW+odu6UBjgGBAUzAlsFuFCOIqVEsVhYGxqRP3Zpt5clwGhAAAn0gAGLaB3gWnGpjvtG/3OItSmyCjfctmBpoAgSYJWDjYO/pPKxMezKxviSjtI4QCJMKYeN96xnCmUDAOgL9SUzffffdfxhL1o3cNmfZmG+HUu0akRR5Ejbet830Qi9A4DEBGwf74467cjRWpn9o07Jly0JCQn7TplmzZi1fvrzLlD3+tT3fj+OvvPLFBXtkAT4BgQFNwPbBboCThphSZxp4bHBoYB37oe3d25eu2Xi/oq4V+9jBASAwqAjYPtgN8NIW05EjR5aVlVFWysvLR44caWDRrg5tz7esVrPx/oGMCrviAM4AgQFPwPbBboCUtpgmJye/9NJLb7zxxuuvv+7o6Hju3DkDi+YPt27d6u7uzufzZ86c2d7eXl5e7u/vz+PxQkJCOjo6EEIKhSIkJITH4/n7+1dUPJKkjRs38ng8FxcXXXfJyckuLi48Hi82NtZMj7bnS5Lk3788P2eP2IxXUAUEgADjBGwf7AZDoC2mlN5d0yaFQmFgzvxhdXU1QRBtbW0IoRkzZhw8eHDGjBknTpxACIWFhcXHxyOEdu/eHRYWhhA6ceJESEgIQqi4uNjLy0uhUJSXl3O5XJU2cbncsrKyjo4OLy+v4uJiU/1i4bv6x+sjI5I6lGpTXkE5EAACjBPAEuz6o6AtpnK5PDo6+pNPPkEIlZaWCoVCfXPm89XV1S+++KJUKlUqlUFBQefOnXNwcFAqlQihnJycSZMmIYQmTZqUk5ODEFIqlQ4ODiRJbtQmyjJVq2uMENKv7dk7Fr6i6w8IgTD7Tn1Pf6AECAABlghgCXb9sdAW05CQkM2bN/P5fISQXC739vbWN9drftu2bUOHDh02bNjs2bPr6up4PB51SmVlJWWTz+dXVT3ayI7L5dbV1YWHhx89epRqtmDBgp+0KTQ0lCo5cuRIeHi4Qb8JCQmjtWnEiBEGVTY4bGrv5C1K/Pq3WzboC7oAAkCAItD/xJTy2MfHhxoArVc9y2SyN998s7a2trOzc8qUKUePHmVJTHWXFy6+U7dkT4yFjfd18wAZIMA6AVzBrhsY7ZXpK6+80tbWNmrUKITQ3bt3/fz8dLZ6zZw6dWrBggVUs8OHDy9atGhAfsxHCH2XUkoIhLUt9L5T7hUgNAACQMAUgf4npqmpqa+//jr1Od3R0TEtLc3U2HqWX7p0yd3dXS6XkyQ5Z86cHTt2BAcH625A7d69GyG0a9cu3Q2oGTNmIISKiop0N6A4HI5KpVIqlRwOp7y8nLoBVVRU1LMvqgQX34LKBkIgPC2uNuUYlAMBIMAsAVzBrhsFvZWpWq0+efJkfX19YmKiUCisq6P9cuN169a5urry+fyPPvpIoVCUlZX5+fnxeLzg4GDqtwHt7e3BwcE8Hs/Pz0/3g9aYmBgul+vi4pKUlES5LhKJnJ2duVxuTEyMbjA9M7j4qtWk18qUpYcLeroEJUAACLBBAFew68ZCT0wRQtg91rluSQajt4sOXPVZlQob71syTdAGCPSdAMZgp5ynLaZr1qyJi4urrKyUdqW+U2DPAka+P17WbLx/vRo23mdvesEyEHhMAGOwU07QFlOie+JwOI9HY385jHxrGtsJgXBH6l37owIeAYEBSABjsFM0aYtp/5oEvHwDov+Y/p3mAQRIQAAIsE0Ab7AjhKwR0xs3bpw8efJwV2KbUV/s4+W74eebvMWJrQrNI16QgAAQYJUA3mC3RkzXr18/fvz4v/71r/PmzRs+fPj06dNZBdRH43j5ZpRoNt5PKarp4yjgdCAABHolgDfYrRFTDw8PtVpNPfhUU1MTGBjY6yAxNsDLV6FUOS8VfXbqBkYC0DUQGCQE8Aa7NWJKPfLk6+vb1NREkqSrq6s9TxV2vrPiL78addGeEYFvQGBgEMAe7LS/M128eHFDQ8OePXucnJx8fHzmzZtnzzOBnW9CWjkhEN6vl9szJfANCAwAAtiDnbaY6qBXVFQUFhbqDu0zg51vaU0LIRAezLxnn3zAKyAwYAhgD3baYpreI9nzZGDnS5Kk/+fn5yXAxvv2fJmAbwOBAPZgpy2m73alwMDA//mf/3nzzTfteR6w80UIrTxR6LYsuVMFG+/b85UCvvV7AtiDnbaY6iOvrKx8//339UvsLY+dL0JIWCAhBMLcu1J7gwP+AIGBRAB7sPdJTEmSdHNzs+f5wM4XIdTQ1sldlBgrvG3PoMA3INDfCWAPdtpiunTp0ghtCg8Pf/XVVz/88EN7ngPsfCk4//g2a/KmDHsGBb4Bgf5OAHuw0xbTQ13p2LFjWVlZdj4B2PlSfL5NKiXChPUtmndZQwICQIANAtiDnbaYskGBPZvY+VJDy6uQEQLhmTzYeJ+9qQbLg50A9mCnLaYeHh6e3RNVYp8ziZ0vhUWlJj0+PRdx5Jp9UgKvgMAAIIA92GmL6Wptuq5Na7TpnjbZ52Rg56vD8smB/FGRqSRJ6kogAwSAAIMEsAc7bTHVveSZokC9ppRBIsyaws5XN5zjOZWEQFj0Z5OuBDJAAAgwSAB7sNMWU29vb919p+zsbG9vbwZxMG4KO1/diP5saCMEwl3nYeN9HRLIAAEmCWAPdtpimpeX5+Xl5ejoOGLECG9v7/z8fCZ5MG0LO1/9AY2PTgvekatfAnkgAASYIoA92GmLKTXyRm1iigJ7drDz1R9a1Jli58UieQdsvK9PBfJAgBkC2IOdtphu27aN2sk0NDR01KhRKSkpzJBgxwp2vvrDSrtVSwiE54sf6hdCHggAAUYIYA922mJK7bF/7ty5qVOnFhUVwQ0oy6+D9k6V8xLR5z8VWX4KtAQCQMBCAv1PTD09PRFCy5YtO3v2LELI4Oa+hcO2WTPsfA1GOnPX5dfWw8b7BlTgEAgwQAB7sNNemc6bN2/ixIlOTk5yuby5udnX15cWhoaGhunTp7u6uo4cOTInJ0cqlQYGBjo5OQUGBspkMoQQSZIRERE8Hs/T01N3d+vQoUNO2nTo0CGqu7y8PA8PDx6PFxERYebHm9j5GsDZc7GMEAgrpbDxvgEYOAQCfSWAPdhpi6larc7Pz29oaEAI1dfX091sf86cOXv37kUIdXR0NDQ0rF69OjY2FiEUGxsbGRmJEBKJRJMnTyZJMjc319/fHyEklUo5HI5UKpXJZBwOh9JcPz+/3NxckiQnT56clJRkah6w8zVwrORBMyEQHsm6b1AOh0AACPSRAPZgpy2mfRlwY2MjQRD6C0kXFxeJRIIQkkgkLi4uCKGFCxceP36c6oWqPX78+MKFC6kSqlYikehe5Kdf29M37HwNXCJJ8uXPfl/wfZ5BORwCASDQRwLYg92mYlpQUODn5zd37lwfH5/Q0NDW1tann36aIkiSJJUPCgrKzMykCgMCAsRicVxcXHR0NFWyYcOGuLg4sVg8YcIEqiQjIyMoKIjK6/5NSEgYrU0jRozQFdpJZsWxQrflyUrYeN9O5gPcGCgE+pOYlpeX9xG7WCz+y1/+cunSJeoW1hdffKETU4TQM888gxBiREx1fmLnq/NEl/n1qmbj/SsVsPG+DglkgAADBLAHO42VKXWvKSAgwOpxP3jwwNHRkTo9IyPjnXfeGWwf8xFCja2dnDDhZlGJ1RjhRCAABHoS6E9i6uPj8/XXX7/44otbuqeeozJT8tprr92+rXmBR1RU1Cpt0t2AWr16NUIoMTFRdwPKz8+PugFFEIRMmwiCkEo1azr9G1AikchUj9j5GnXsnbjMdzY/+irDaAMoBAJAgC4B7MFOY2V6+/btTZs2Pffcc+u7J1pjLigoGD16tKen55QpU2QyWX19fUBAgJOT04QJEyiVJElyyZIlXC7Xw8NDLH70huT9+/fztOnAgQNUd2KxmM/nc7nc8PBw/TtaBs5g52vgD3X4jaiEEyaUyWHjfaN4oBAIWEMAe7DTEFNqfGZ+h2QNAJbPwc7X6PiulGs23v/l6p9Ga6EQCAABKwhgD3baYtrY2LhixQrqXvmnn37a2NhoxbBtdgp2vkZHqlSp+cuTlx+DjfeN4oFCIGANAezBTltM33///XXr1pVp0/r166dNm2bNuG11Dna+pgYauj/v5TW/m/mCwtSJUA4EgIBRAtiDnbaYGuwGbXBodJAYC7HzNTX2Y9n3CYHw1oNmUw2gHAgAAVoEsAc7bTEdM2aM7kf1WVlZY8aMoTVgGzfGztfUeKtlmo3391wsM9UAyoEAEKBFAHuw0xbTa9euUTvtOzo6+vj40H02nxadvjfGztfMEF7/Ku2DnZrnFyABASDQdwLYg522mFJjbtKmvo+fbQvY+ZoZ4Jeni52XiNo7VWbaQBUQAAIWEsAe7FaKqYXDw94MO18zBM7ffEgIhBdu1aInnjD8z8xpUAUEgIAxAtiDHcTU2LTYpKxNoXJaIjKUUX1htYkb0AkQGBgEQEzZnUfsfM0PT/Odqb56GuTNnwy1QAAI6BHAHuy0V6YqlerXX3/dvn277gF9veHYXRY7X/NE4i+UmRNTSlvNm4BaIAAEtASwBzttMX377benTZu2bt063QP69jyV2Pn2AsdgKWr0sBcTUA0EgICGAPZgpy2m1Av1+svsYedrEpRR3TRVaNIKVAABIPCIAPZgpy2mkZGRKSkp/WUCsfM1AsqUYpovN2IIioAAEHhMAHuw0xbTs2fP/td//dd//ud/PvXUU//93//91FNPPR6N/eWw8zVEYkIxxRWaN7M+SkbbdFXCXyAABIwSwB7stMWUIIjCwsL+skMHdr7dZt2YSkpbOogwYVxS9433jbXsZgoOgAAQ6E4Ae7DTFtNx48ap1eruo7DfI+x8H6ExK45vb8p4N87Exvv6J9ovZvAMCOAngD3YaYvp3Llzx40bt3HjRvhplEWXj74a6uf1Tt6UeJsTJmxs7dQr68rqn/IE7cnqsgJ/gcDAJ9D/xFT3iyhdxp5nCTtf4z8j7Y7sUpmUEAh/K5B0L+460tfTrjL4CwSAgAEB7ME+wBc7OPnqi6AubzD/2sNOldp9WfKnPxQaq9SW6U6HxalJRlAx2AngDHYqTOnOwPjx49/snuhasGV7nHz1FbA3EZz/vdhvremN9/VN2RIf9AUE+g8BnMGupUR7ZZrXlbKyslasWEG9n9lugePkS0cBD2XfIwTCkhoTG+/TMWW3c1FaOMkAABhySURBVAGOAQFWCeAMdu3AaIupAQ7q1fYGhfZziJOvTgEtwHG/Xk4IhP9OKzfZlo41k0agAggMXAI4g11LlbaYSrtSXV3duXPnXFxc7Hl2cPKlKX/joi7O2nXZJEya1kzagQogMEAJ4Ax2LVLaYkoQBIfDIQjCyclp4sSJuvdB2ecE4eSrkz8q0xugz38qcl5qeuN9nbXe7EA9EBicBHAGu5Y4bTHtX/OEk69O/iwT09TiGkIg/EZUIpN3GIGss2akDoqAABDoV7tGXbly5cGDB9SkHT58+L333ouIiJBKpXSnUaVS+fj4BAUFIYTKy8v9/f15PF5ISEhHh0ZEFApFSEgIj8fz9/evqKigjG/cuJHH47m4uJw7d44qSU5OdnFx4fF4sbGxZhzAKaYIGf7I1IyjCLV3qt77NosQCJ0Xi0L356UW1yhVek+agZiapQeVQABzsCNEY2U6atQoSjrT09Off/7506dPf/HFF9OnT6c7i1u2bJk1axYlpjNmzDhx4gRCKCwsLD4+HiG0e/fusLAwhNCJEydCQkIQQsXFxV5eXgqFory8nMvlqrSJy+WWlZV1dHR4eXkVFxeb8gE73256asrLrnKSJAsrGz//qchrZQohEPqsSo36ubibhd5+YtVlCf4CgUFHAHuw0xBTLy8van6WLFkSFRVF5b29vWlNWlVVVUBAwIULF4KCgkiSdHBwUCqVCKGcnJxJkyYhhCZNmpSTk4MQUiqVDg4OJElu1CaqF6pW1xghpF/b0xPsfK2Twg6lWnT9wbwEMW9RonUWeqKAEiAwsAlgD3YaYsrn8ynhc3V1TU9PpyaGz+fTmqHp06fn5eWlpaUFBQXV1dXxeDzq9MrKSsoUn8+vqqqiCrlcbl1dXXh4+NGjR6mSBQsW/KRNoaGhVMmRI0fCw8OpfM9/sfPVuKT7hG7Zl6fdRmFw7hNPJBU+6FDqffzv1hoOgMDgJYA92GmIaUxMzNixY9977z0fHx9qC747d+6MHTvW8tkTCoWLFy9GCLEtpgkJCaO1acSIEZa7x2JLfU20vBv9s7R5n1WphEDotTLlX6eLCisb+8tGiJaPGFoCAasJ9CcxRQjl5uaePXu2tbWVGnBJSUl+fr7lg1+7du0LL7zg6Og4fPjwJ598cvbs2QP/Yz5Fx0AWe0Vm0J46REipUqcW14Tuz3NeLCIEwoDoP/ZcLHvYpOjVHjQAAgOeQD8TU6bmg1qZIoSCg4N1N6B2796NENq1a5fuBtSMGTMQQkVFRbobUBwOR6VSKZVKDodTXl5O3YAqKioy5Rh2vo8dM9DHxxV6OYM2+od6rRBCMnnHgYyKt7/JJARC7qLEj+Ov/FYgUShV3VvBERAYRASwBzuNj/kMTotOTMvKyvz8/Hg8XnBwsEKhWWG1t7cHBwfzeDw/P7+ysjKq05iYGC6X6+LikpSURJWIRCJnZ2culxsTE2PGMex8H/umr4xU/nGdNtezga7EoKXeYUlNc/Qvt3zXaj7+81ecW3PyxtV7DfDxX48QZAcLAezBjkdMbTa92PkajlSnj/qZnjepdLWG5xs/VqnJC7dqww5edV6i+fj/+ldpO8/ffdDYbrw1lAKBgUgAe7CDmNr2stKppPmMtU41tHUeybr/D+2P/zlhwlm7Lp/N/7O9Ez7+WwsUzus/BEBM2Z0r7HyNDM+8jDL0s/y7D1tihbf91v5OCIRuy5NXHr9+pVwGH/+NTAcUDRQC2IMdVqb4LiWjqsqoO2o1mVFSt/RwgWt4EiEQvhp18buU0ipZG6OdgDEgYBcEQEzZnQbsfNkdnsXWmxXKHy5VTt2aTQiERJgweEfuT+IqeYfm2TNIQGBgEMAe7LAyHRgXkqWjuFcn/0ZU8vcvzxMC4ciIpOXHruXcqYeP/5big3Z2TADElN3Jwc6X3eFZa12tJrPv1P/z6LWREZqP/698cSEuqeR+vdxae0bOU6vJ9k5Vs0IpbemoaWyvkrWV17aWPGi+UdV09V7D5TJpRmld2q3alKKaxELJz/l/nrpSdSz3/sHMewcy71XUPXoqxIhdKAICJghgD3ZYmZqYmcFRLO9QnrpSFbw9hwgTEgLhtK3ZW5JL45JKYoW3N/x881+niyJPXv/0h8KlRwrCDl4N3Zs3599XZu66HLw9Z8qWrLe/yQyMSR8fnfZq1EX/z8/7rk31WpnivizZeamIuyhR831CH/77YOelxEJJp/4mhINjRmCUVhMAMbUanUUnYudrkZd20KhK1vZdSunYdRcoBeQuSnReInJfluy1MsV3bar/5+dfjbo4PjotMCb97W8yp2zJmv5dzsxdl+f8+0ro3rywg1eXHin49IfCyJPX/3W6aMPPN78W3opLKtmWeif+Qtn3f5QfzLx3PKfy1JWqn/P/TLz2IKWoJu1WbVZp/ZUK6dV7DTeqmkpqmstrW6tkbTXN7ffq5FuSS1/+TPM7hFGRqZsSb8MdMzu4QPqBC9iDHVam/eAqsZmLJKn5bK5Skzbr0VRHSpU65XrNR/FXiDAhJ0z4cfyVlKIae3DMlMNQjp0AiCm7U4CdL7vDGwTWK6XyWOFtn0jN87L+n5/fmlxaA092DYJ5t2KI2IMdVqZWzBqcYmsCnSq1sEASsiOX2thlwfd5abdr1XawgrY1COjPNAEQU9NsmKjBzpeJQYCNxwTKa1s3/HzT89Nzmh8hrLuw8/zdumbYgfAxn8Gcwx7ssDIdzJdffx27Qqk6k1dNPYPgvFi06MDVbPi1bH+dTMb8BjFlDKVRQ9j5GvUKCpkiUPKg+fOfivjLkwmBcNz6iwlp5Y2tnUwZBzv9iwD2YIeVaf+6YMBbIwTaFKoTlyrf2azZKtt5iSjiyDVxBezqYgTUwC4CMWV3frHzZXd4YL07gevVjat/vE491jXh6/QDmfea2mGh2p3RwD3CHuywMh24F9dgHVmzQnkk6/7EjemEQOgakbTy+PXCysbBCmMQjRvElN3Jxs6X3eGBddMESJLMv9ew/Ng156Watw+8vSnjeE4lbJRlGli/r8Ee7LAy7ffXEAzAPIGGts69f5SPj04jBEL3ZcmfnbpxS9Js/hSo7Y8EQEzZnTXsfNkdHli3mABJkpfKpEsOXaXekj1lS9ZP4ip4oYvF/PpBQ+zBDivTfnCVgIsMEqhv6Yi/UPZq1EVCIPT49FzUz8V3H7YwaB9M4SIAYsoueex82R0eWLeWgFpNZpbUCfbl87S7BQZvz/n1qqRDqbbWHpyHnwD2YIeVKf6LADzASKCmuX1b6h3/zzWvHvBenfL1b7eY3SQb49AGW9cgpuzOOHa+7A4PrDNEQKUmf7/5cM4eMSdM846s8dFpE2M1O7f+49usqVuzg7fnfLDz0oe7L8/ZI17wfZ5gX/6iA1eXHi7459FrK09odnH9/KeiL88UazZy/e3WpsTbcUkl36WU7ki9G3+hLCGtfH9GxaHse8dy7/94ueoncdXZ/D9/K5CIrmv2dT1/82H67bqs0vpLZdIr5bKr9xoKKxuLJU2lNS3VsraGtk4lbI9t8RRjD3ZYmVo8V9BwEBColrXFJZXMTRB/HH9l1q7LITtyp23LnrIl6524zMmbMiZuTA+I/uP1rzQvF/j7l+f91v4+KjLVe2UKf8U5N+0rBniLEzVy3IdXDPQ813mpyHt1yitfXJjwdfqULVmz4i9/ciB/xbHCL08Xb068vev83YOZ906Lq5Ov12SU1hVUNpQ+bHnQ2N7U3jnYdtUCMWU3QLHzZXd4YN0uCajVZKdKTb0Cq7G1s65ZUdPYXi1ru18vL6ttLa1puSVpvl7dWFDZIK6QXSqTZpXWp9+uO3/zYUpRjej6A2GB5Exe9bHs+3suln2bVLr+l5urfry++NDVOf++Mm1b9luxGeOiLvquTXVblky9bKan/upKXCOSfCJTX426ODE2fdrW7I/jryw6cHXl8etRPxfHJZXsuVh2JOf+2fw/U4pqsu/UF1Y2ltW21jS3yzuU/fEdi9iD3aYr08rKyvHjx7u5ubm7u2/btg0hJJVKAwMDnZycAgMDZTIZQogkyYiICB6P5+npmZ+fTwXLoUOHnLTp0KFDVEleXp6HhwePx4uIiDAz8dj52mWwg1MDhIBaTbYqlDWN7Xcftly735hVWp9yveZMXvWh7HvxF8q+EZVEnSleeaIw7ODVj+KvTN2aPXFj+th1F3xWpbqGa16kaOY/TpjQe2XKW7EZ878Xf3m6eM/FMmGB5Oq9hodNCjPhhhcr9mC3qZhKJBJKH5ubm52dnYuLi1evXh0bG4sQio2NjYyMRAiJRKLJkyeTJJmbm+vv708JLofDkUqlMpmMw+FQmuvn55ebm0uS5OTJk5OSkkzNIna+phyDciCAl4BKTTa1d0oa2ktrWq7ea8gsqUsqfPCTuOpA5r2d5+9uSry96sfrs+Ivv/FVmqv2FbY65XVaIno16mLwjtx/Hr32jajkeE5lRkldWW0r9h/tYg92m4qp/tXz3nvvpaamuri4SCQShJBEInFxcUEILVy48Pjx41RLqvb48eMLFy6kSqhaiUTi6upKlejX6tun8tj59nQJSoBA/yJAkmRja+eNqqaU6zX70is2/Hxz4YH8d+MyX17zu8H3DN6rUyZvyljwfd6XZ4r/nVaeWCgpqGyobbHRYhZ7sOMR04qKipdeeqmpqenpp5+mLiySJKl8UFBQZmYmVRgQECAWi+Pi4qKjo6mSDRs2xMXFicXiCRMmUCUZGRlBQUFUXvdvQkLCaG0aMWKErhAyQAAIMEugQ6m+Xy/PvlN/6krVdymlK08Uztx1+fWv0gy+RnBeIhoXdTFkR+7yY9fikkp+uKRZzJYzvZgdjGLa0tLi6+t75swZhJBOTBFCzzzzDEKIETHVXTHY+eo8gQwQGDwESJKUyTsKKxuTCh/s/aN8/S83PzmQ/87mzFHaFyPqvjEgBEKfValvb8oI3atZzCaklSdee3DtfmNdszWLWezBbuuVaWdn56RJk7Zs2UJdWPAxf/AEGIwUCCCEFErVvTp5Vmn9j5ertiSXfvpD4Qc7L41bf5Ha3Euns9RiNvtOveXQBpeYkiT58ccf//Of/9QBWrVqle4G1OrVqxFCiYmJuhtQfn5+1A0ogiBk2kQQhFQqRQjp34ASiUQ6gwYZ7HwN/IFDIAAEjBIgSbK+RbOYFV1/8P0f5VFnikP359Ha3wt7sNt0ZZqZmfnEE094enp6a5NIJKqvrw8ICHBycpowYQKlkiRJLlmyhMvlenh4iMViivv+/ft52nTgwAGqRCwW8/l8LpcbHh5u5rca2PkavW6gEAgAAcYJYA92m4op4/h6NYidb68eQgMgAAQYIYA92EFMGZlHMAIEgABmAiCm7E4Adr7sDg+sAwEg0EUAe7DDyrRrKuAvEAAC/ZkAiCm7s4edL7vDA+tAAAh0EcAe7LAy7ZoK+AsEgEB/JgBiyu7sYefL7vDAOhAAAl0EsAc7rEy7pgL+AgEg0J8JgJiyO3vDhg2jdjyx5F9HR0dLmrHaBrsP2B0YPXo0dh+wOwAQqCijNRHDhg1jV016sz7AV6a9Db9bPfb/syGEsPuA3QGAQF2U2CcCuwP2cCV0E4jeDkBMHxOCq8dOLl/sE4HdAXuYCIDwWBosy4GYPuYEV489xLA9+ABXgj3Mgp348FggesuBmD4mlJCQ8PgAUw67D9gdQAhh9wG7AwCBij97mAjLlQDE1HJW0BIIAAEgYJIAiKlJNFABBIAAELCcAIip5aygJRAAAkDAJAEQUw2aysrK8ePHu7m5ubu7b9u2zSQt1ira29v9/Py8vLzc3d3XrVvHWj+9GFapVD4+Pj1fUNjLacxVOzo6enh4eHt7Y7wF1NDQMH36dFdX15EjR+bk5DA3OIss3b59m9o63dvb+6mnnvruu+8sOo3pRlu3bnV3d+fz+TNnzmxvb2fafO/2tm3bxufz3d3dcRHo3cUeLUBMNUgkEkl+fj5CqLm52dnZubi4uAcodgtIkmxpaUEIdXZ2+vv75+bmstufCetbtmyZNWsWXjGtq6sz4Z2NiufMmbN3716EUEdHR0NDg4167dGNSqUaPnz4vXv3etSwXlBdXU0QRFtbG0JoxowZBw8eZL3L7h3cuHGDz+fL5XKlUjlhwoQ7d+50r7fTIxBTw4l57733UlNTDUttdSyXy0eNGnXp0iVbdfi4n6qqqoCAgAsXLgxmMW1sbCQIwsyLcB7zYjmXkpIyduxYljsxbr66uvrFF1+USqVKpTIoKCglJcV4O9ZKT506tWDBAsr8hg0bNm/ezFpXTBoGMe1Gs6Ki4qWXXmpqaupWapMDlUrl7e09dOjQyMhIm3Ro2Mn06dPz8vLS0tIwiilBEKNGjfL19cX1m5iCggI/P7+5c+f6+PiEhoa2trYaYrLV8fz583fu3Gmr3gz72bZt29ChQ4cNGzZ79mzDOvaPb9686ezsXF9fL5fLx4wZs3TpUvb7ZKAHENPHEFtaWnx9fc+cOfO4yOa5hoaG8ePH37hxw8Y9C4XCxYsXI4Twiml1dTVC6OHDh15eXunp6TaGgBASi8V/+ctfqE8Gy5Yt++KLL2zvA/UNg4ODQ01NDZbeZTLZm2++WVtb29nZOWXKlKNHj9rejX379vn6+o4bN27RokX67zO2vSeW9whi+ohVZ2fnpEmTtmzZYjk7llp+9dVXcXFxLBk3ZXbt2rUvvPCCo6Pj8OHDn3zyyQ8//NBUS9uUR0VF2R4CQujBgweOjo7UGDMyMt555x3bjNegl19++WXixIkGhTY71P+UffjwYer/sjbr3aCjzz77bPfu3QaF9nkIYqqZF5IkP/74Y4z/A6ytraXudbS1tb322mtCoRDX5YJxZdra2trc3IwQam1tfeWVV5KTk7FAeO21127fvo0QioqKWrVqFRYfPvjgA91bzW3vwKVLl9zd3eVyOUmSc+bM2bFjh+19ePjwIULo/v37rq6uGG8D0ho4iKkGV2Zm5hNPPOHp6Un9KkUkEtGC2PfGhYWFPj4+np6efD7/q6++6rtBqy1gFNOysjIvbXJ3d4+JibF6CH08saCgYPTo0Z6enlOmTJHJZH20ZsXpra2t//d//9fY2GjFuUydsm7dOldXVz6f/9FHHykUCqbMWm7ntddec3Nz8/LyOn/+vOVn4W0JYoqXP/QOBIDAACEAYjpAJhKGAQSAAF4CIKZ4+UPvQAAIDBACIKYDZCJhGEAACOAlAGKKlz/0DgSAwAAhAGI6QCYShgEEgABeAiCmePlD790IDB06lDoWiUTOzs7mt/lwdHS0cFeUtLS07Ozsbj3BARBgmgCIKdNEwV4fCFBiev78eR6Pd/fuXfOWLBdTC5+nUiqV5nuEWiBghgCIqRk4UGVrAkOHDk1PT+dwOLdu3TLou6WlZd68eR4eHp6enqdPn0YIUWJaUVHB5/OpxnFxcVFRUQih7du3u7m5eXp6fvDBBxUVFcOHD//b3/7m7e2dkZFRW1v7/vvvv6xNWVlZ1JNOH3300dixY2fOnFlUVOTn5+ft7e3p6VlaWmrgAxwCATMEQEzNwIEqWxMYMmTI//7v/xYWFvbsODIyUve8L/Vgkhkxff7556nndqgnEfVXprNmzcrMzKQeVRw5ciQlpr6+vtT2nUuXLj127Bi11QhV0tMTKAECRgmAmBrFAoV4CDz55JNBQUHLli3r2b2vr6/BUtGMmL711lvTp08/evQoteW2vpg+++yzuq3s//a3v7W0tERFRa1fv57q8YcffnB3d9+0aZNBXz39gRIgYEAAxNQACBziJDB06FBqC8uvv/7awA9TYlpVVeXm5kY1jo6Opj7mq1SqixcvrlixYuTIkUqlUl9MHRwcDN7DoV+LELp79+727dudnJwuXLhg4AMcAgEzBEBMzcCBKlsToG5ASaVSd3f3ffv26Xe/Zs0aox/zOzs7HRwc6uvrFQrF3//+96ioKLVaXVFRQb0D5vnnn29oaPj22291b9aaNWvWN998Q1kuKCigPubrtvsrKyujttlfuXJlP3r7kD4oyOMiAGKKizz0a4SA7qdRlZWVBEH8+uuvukYtLS1z5szh8/leXl7UBt66u/nbt2/ncrnjxo2bO3duVFRUZ2fnq6++6uHhwefzY2NjEUIlJSXUlmAZGRl1dXUhISGenp5ubm5hYWEGYhobG+vu7u7t7f3WW29JpVJd75ABAr0SADHtFRE0AAJAAAj0TgDEtHdG0AIIAAEg0CsBENNeEUEDIAAEgEDvBEBMe2cELYAAEAACvRIAMe0VETQAAkAACPROAMS0d0bQAggAASDQKwEQ014RQQMgAASAQO8EQEx7ZwQtgAAQAAK9Evh/W1tMIdB3QJcAAAAASUVORK5CYII=)"
   ]
  },
  {
   "cell_type": "markdown",
   "metadata": {
    "id": "d2WJUgKPK-ir"
   },
   "source": [
    "The main advantage of this method that its very simple and easy to implement, on the other hand sometimes it is not very clear where the elbow is"
   ]
  },
  {
   "cell_type": "markdown",
   "metadata": {
    "id": "tdX4xH05K-ir"
   },
   "source": [
    "## Silhouette analysis"
   ]
  },
  {
   "cell_type": "markdown",
   "metadata": {
    "id": "ljcP_CIKK-ir"
   },
   "source": [
    "Silhouette analysis is a method to evaluate the quality of clustering results by measuring how similar each data point is to its own cluster compared to other clusters. A high silhouette score indicates that the data points in a cluster are well-separated from other clusters and that the clustering solution is good."
   ]
  },
  {
   "cell_type": "markdown",
   "metadata": {
    "id": "wUQeDjV2K-is"
   },
   "source": [
    "The silhouette score can be calculated using the following formula. This measure has a range of [-1, 1] and it is calculated for each sample in the dataset"
   ]
  },
  {
   "cell_type": "markdown",
   "metadata": {
    "id": "XjhDhGAjK-is"
   },
   "source": [
    "![image.png](data:image/png;base64,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)"
   ]
  },
  {
   "cell_type": "markdown",
   "metadata": {
    "id": "f51fw07NK-is"
   },
   "source": [
    "where:\n",
    " - a_i represents the average distance of that point with all other points in the same clusters\n",
    " - b_i represents the average distance of that point with all the points in the closest cluster to its cluster"
   ]
  },
  {
   "cell_type": "markdown",
   "metadata": {
    "id": "3nNOUINiK-is"
   },
   "source": [
    "if\n",
    " - is 0 –> the sample is very close to the neighboring clusters.\n",
    " - is 1 –> the sample is far away from the neighboring clusters.\n",
    " - is -1 –> the sample is assigned to the wrong clusters."
   ]
  },
  {
   "cell_type": "markdown",
   "metadata": {
    "id": "qxKM3x0BK-is"
   },
   "source": [
    "## Exercise 2 - Implementing an Elbow Method"
   ]
  },
  {
   "cell_type": "markdown",
   "metadata": {
    "id": "zVI8-1M0K-it"
   },
   "source": [
    "Implementing an elbow method is simple, \n",
    " 1. Create a vector of possible *k* values\n",
    " 2. Fit your data using different *k* values and save the objective function value\n",
    " 3. Plot objective function values in terms of *k* values\n",
    " 4. Find an elbow"
   ]
  },
  {
   "cell_type": "code",
   "execution_count": 59,
   "metadata": {
    "id": "vb5rBP65K-it"
   },
   "outputs": [],
   "source": [
    "k_all = range(2, 10)\n",
    "all_objective = []\n",
    "\n",
    "\n",
    "for i in k_all:\n",
    "    _,obj = fit(points, i, 1000)\n",
    "    all_objective.append(obj)"
   ]
  },
  {
   "cell_type": "code",
   "execution_count": 60,
   "metadata": {
    "id": "8_w3WgGmK-it"
   },
   "outputs": [
    {
     "data": {
      "text/plain": [
       "Text(0, 0.5, 'Sum of squared distance')"
      ]
     },
     "execution_count": 60,
     "metadata": {},
     "output_type": "execute_result"
    },
    {
     "data": {
      "image/png": "[encoded data removed]",
      "text/plain": [
       "<Figure size 640x480 with 1 Axes>"
      ]
     },
     "metadata": {},
     "output_type": "display_data"
    }
   ],
   "source": [
    "plt.figure()\n",
    "plt.plot(k_all, all_objective)\n",
    "plt.xlabel('K clusters')\n",
    "plt.ylabel('Sum of squared distance')"
   ]
  },
  {
   "cell_type": "markdown",
   "metadata": {
    "id": "XGeeVnNtK-it"
   },
   "source": [
    "# Exercise 3 - Image Compression"
   ]
  },
  {
   "cell_type": "markdown",
   "metadata": {
    "id": "2tjbWgglK-it"
   },
   "source": [
    "In this exercise, the task would be to implement simple image compression using the k-means algorithm. You can use an image in the directory *Data\\\\*. This time, we will use a library that implements k-means for us - *sklearn* https://scikit-learn.org/stable/modules/generated/sklearn.cluster.KMeans.html. To load the image you can use *openCv* or *matplotlib* (or anything else)"
   ]
  },
  {
   "cell_type": "markdown",
   "metadata": {
    "id": "MYtIKh5_K-it"
   },
   "source": [
    "### Steps\n",
    "\n",
    "   1. Firstly reshape your image to 2D array with shape (image.width*image.height, n_of_colour_channels)\n",
    "   2. Initialize the K_means algorithm, where K would be equal to the number of colors in the compressed image\n",
    "   3. check cluster centroids and convert them to integers - these are your new colors (kmeans.cluster_centers_ could be useful)\n",
    "   4. replace your 2D arrays colors with newly generated colors\n",
    "   5. reshape your 2D array to the original image shape"
   ]
  },
  {
   "cell_type": "markdown",
   "metadata": {
    "id": "-Ec1H9a9K-iu"
   },
   "source": [
    "Tips:\n",
    "- it takes a couple of seconds to compress the attached image, you can work on your algorithm using different (smaller) image\n",
    "- the implementation can be done in single function"
   ]
  },
  {
   "cell_type": "code",
   "execution_count": 61,
   "metadata": {
    "id": "P7CTxZfdK-iu"
   },
   "outputs": [
    {
     "ename": "ModuleNotFoundError",
     "evalue": "No module named 'sklearn'",
     "output_type": "error",
     "traceback": [
      "\u001b[1;31m---------------------------------------------------------------------------\u001b[0m",
      "\u001b[1;31mModuleNotFoundError\u001b[0m                       Traceback (most recent call last)",
      "Cell \u001b[1;32mIn[61], line 2\u001b[0m\n\u001b[0;32m      1\u001b[0m \u001b[39mfrom\u001b[39;00m \u001b[39mmatplotlib\u001b[39;00m\u001b[39m.\u001b[39;00m\u001b[39mimage\u001b[39;00m \u001b[39mimport\u001b[39;00m imread\n\u001b[1;32m----> 2\u001b[0m \u001b[39mfrom\u001b[39;00m \u001b[39msklearn\u001b[39;00m\u001b[39m.\u001b[39;00m\u001b[39mcluster\u001b[39;00m \u001b[39mimport\u001b[39;00m KMeans\n\u001b[0;32m      3\u001b[0m \u001b[39mimport\u001b[39;00m \u001b[39mnumpy\u001b[39;00m \u001b[39mas\u001b[39;00m \u001b[39mnp\u001b[39;00m\n",
      "\u001b[1;31mModuleNotFoundError\u001b[0m: No module named 'sklearn'"
     ]
    }
   ],
   "source": [
    "from matplotlib.image import imread\n",
    "from sklearn.cluster import KMeans\n",
    "import numpy as np"
   ]
  },
  {
   "cell_type": "markdown",
   "metadata": {
    "id": "F-J7X5tgK-iu"
   },
   "source": [
    "### 1. load image"
   ]
  },
  {
   "cell_type": "code",
   "execution_count": null,
   "metadata": {
    "id": "RCefjB2dK-iu",
    "outputId": "4d7046b7-6ad2-40c7-da2c-2b7b2742289c"
   },
   "outputs": [],
   "source": [
    "loaded_image = imread('Data/fish.jpg')\n",
    "\n",
    "plt.imshow(loaded_image)\n",
    "plt.show()"
   ]
  },
  {
   "cell_type": "code",
   "execution_count": null,
   "metadata": {
    "id": "_QYi_3npK-iu"
   },
   "outputs": [],
   "source": [
    "def compress_image(image: np.array, number_of_colours: int) -> np.array:\n",
    "    \n",
    "    return image\n"
   ]
  },
  {
   "cell_type": "code",
   "execution_count": null,
   "metadata": {
    "id": "zVYzleLhK-iu",
    "outputId": "c5622ac9-d30d-4ff3-db07-02e9a8862d53"
   },
   "outputs": [],
   "source": [
    "img = compress_image(loaded_image, 30)\n",
    "\n",
    "plt.figure()\n",
    "plt.imshow(img)\n",
    "plt.show()"
   ]
  }
 ],
 "metadata": {
  "colab": {
   "provenance": []
  },
  "kernelspec": {
   "display_name": "Python 3",
   "language": "python",
   "name": "python3"
  },
  "language_info": {
   "codemirror_mode": {
    "name": "ipython",
    "version": 3
   },
   "file_extension": ".py",
   "mimetype": "text/x-python",
   "name": "python",
   "nbconvert_exporter": "python",
   "pygments_lexer": "ipython3",
   "version": "3.9.4"
  },
  "vscode": {
   "interpreter": {
    "hash": "16df692f1f6e2a1e1ce4185923fc5153d51899e32dce251143dce7d99e9dac23"
   }
  }
 },
 "nbformat": 4,
 "nbformat_minor": 4
}
