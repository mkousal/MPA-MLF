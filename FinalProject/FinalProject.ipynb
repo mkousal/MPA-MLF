{
  "nbformat": 4,
  "nbformat_minor": 0,
  "metadata": {
    "colab": {
      "provenance": [],
      "authorship_tag": "ABX9TyPnrBeqZzqFEia4d4amEuFh",
      "include_colab_link": true
    },
    "kernelspec": {
      "name": "python3",
      "display_name": "Python 3"
    },
    "language_info": {
      "name": "python"
    },
    "accelerator": "GPU",
    "gpuClass": "standard"
  },
  "cells": [
    {
      "cell_type": "markdown",
      "metadata": {
        "id": "view-in-github",
        "colab_type": "text"
      },
      "source": [
        "<a href=\"https://colab.research.google.com/github/mkousal/MPA-MLF/blob/main/FinalProject/FinalProject.ipynb\" target=\"_parent\"><img src=\"https://colab.research.google.com/assets/colab-badge.svg\" alt=\"Open In Colab\"/></a>"
      ]
    },
    {
      "cell_type": "markdown",
      "source": [
        "# Final project\n",
        "\n",
        "## Mounting GDrive"
      ],
      "metadata": {
        "id": "Dqy6QBQxb_fU"
      }
    },
    {
      "cell_type": "code",
      "execution_count": null,
      "metadata": {
        "colab": {
          "base_uri": "https://localhost:8080/"
        },
        "id": "OKCmdCiT-WHT",
        "outputId": "ca4a289e-ed59-4c1b-b08d-ba6eb028abf4"
      },
      "outputs": [
        {
          "output_type": "stream",
          "name": "stdout",
          "text": [
            "Mounted at /content/drive\n"
          ]
        }
      ],
      "source": [
        "from google.colab import drive\n",
        "drive.mount('/content/drive', force_remount=True)"
      ]
    },
    {
      "cell_type": "markdown",
      "source": [
        "## Import libraries"
      ],
      "metadata": {
        "id": "QRmrTOTocIPL"
      }
    },
    {
      "cell_type": "code",
      "source": [
        "import glob, os\n",
        "import numpy as np\n",
        "import pandas as pd\n",
        "from sklearn.model_selection import train_test_split\n",
        "from keras.utils import to_categorical\n",
        "from keras.backend import clear_session\n",
        "from keras.models import Sequential\n",
        "from keras.layers import Dense, Flatten, Dropout, Conv2D, MaxPooling2D\n",
        "from keras.optimizers import SGD, RMSprop, Adadelta, Ftrl, Nadam, Adagrad, Adamax, Adam\n",
        "import matplotlib.pyplot as plt"
      ],
      "metadata": {
        "id": "h946czkF-iSy"
      },
      "execution_count": null,
      "outputs": []
    },
    {
      "cell_type": "code",
      "source": [
        "# train_files = glob.glob('/content/drive/MyDrive/VUT/MPC-EKT/2.semestr/MPA-MLF/project2/Dataset/Train/CSV/*.csv')\n",
        "# test_files = glob.glob('/content/drive/MyDrive/VUT/MPC-EKT/2.semestr/MPA-MLF/project2/Dataset/Test/CSV/*.csv')\n",
        "# y_train_file = glob.glob('/content/drive/MyDrive/VUT/MPC-EKT/2.semestr/MPA-MLF/project2/Dataset/y_train.csv')\n",
        "\n",
        "# x_train_files = []\n",
        "# x_test_files = []\n",
        "# for file_ in train_files:\n",
        "#   df = pd.read_csv(file_, index_col=None, header=0)\n",
        "#   x_train_files.append(df.to_numpy())\n",
        "\n",
        "# for file_ in test_files:\n",
        "#   df = pd.read_csv(file_, index_col=None, header=0)\n",
        "#   x_test_files.append(df.to_numpy())"
      ],
      "metadata": {
        "id": "wXFao0kN-omS"
      },
      "execution_count": null,
      "outputs": []
    },
    {
      "cell_type": "code",
      "source": [
        "# x_train = np.stack(x_train_files)\n",
        "# x_test = np.stack(x_test_files)"
      ],
      "metadata": {
        "id": "T8-LZI0BE4Kk"
      },
      "execution_count": null,
      "outputs": []
    },
    {
      "cell_type": "markdown",
      "source": [
        "## Import train and test data"
      ],
      "metadata": {
        "id": "-_wJi62rcL4d"
      }
    },
    {
      "cell_type": "code",
      "source": [
        "y_train = pd.read_csv('/content/drive/MyDrive/VUT/MPC-EKT/2.semestr/MPA-MLF/project2/Dataset/y_train.csv', index_col=None, header=0)\n",
        "x_train = np.load('/content/drive/MyDrive/VUT/MPC-EKT/2.semestr/MPA-MLF/project2/x_train.npy')\n",
        "x_test = np.load('/content/drive/MyDrive/VUT/MPC-EKT/2.semestr/MPA-MLF/project2/x_test.npy')"
      ],
      "metadata": {
        "id": "HwDIkStyJFjA"
      },
      "execution_count": null,
      "outputs": []
    },
    {
      "cell_type": "code",
      "source": [
        "x_train, x_valid, y_train, y_valid = train_test_split(x_train, y_train, test_size=0.2)"
      ],
      "metadata": {
        "id": "aVe0gjO3WS9R"
      },
      "execution_count": null,
      "outputs": []
    },
    {
      "cell_type": "code",
      "source": [
        "x_train.shape"
      ],
      "metadata": {
        "colab": {
          "base_uri": "https://localhost:8080/"
        },
        "id": "1m9EWskbLR5G",
        "outputId": "2cdb2496-43a3-4f40-a89e-3bd3d9530f21"
      },
      "execution_count": null,
      "outputs": [
        {
          "output_type": "execute_result",
          "data": {
            "text/plain": [
              "(6623, 44, 52)"
            ]
          },
          "metadata": {},
          "execution_count": 41
        }
      ]
    },
    {
      "cell_type": "code",
      "source": [
        "x_train.min()"
      ],
      "metadata": {
        "colab": {
          "base_uri": "https://localhost:8080/"
        },
        "id": "VgMDE8PLLVUr",
        "outputId": "c97a33c4-7b77-4ac0-9e3b-89bc72ec96df"
      },
      "execution_count": null,
      "outputs": [
        {
          "output_type": "execute_result",
          "data": {
            "text/plain": [
              "0.0"
            ]
          },
          "metadata": {},
          "execution_count": 6
        }
      ]
    },
    {
      "cell_type": "code",
      "source": [
        "x_train.max()"
      ],
      "metadata": {
        "colab": {
          "base_uri": "https://localhost:8080/"
        },
        "id": "hZOMEOW0LX01",
        "outputId": "d132dd82-02da-4896-f762-04f41a09b563"
      },
      "execution_count": null,
      "outputs": [
        {
          "output_type": "execute_result",
          "data": {
            "text/plain": [
              "43007.0"
            ]
          },
          "metadata": {},
          "execution_count": 7
        }
      ]
    },
    {
      "cell_type": "markdown",
      "source": [
        "## Scale data and perform one-hot encoding"
      ],
      "metadata": {
        "id": "oe89PN49cSbg"
      }
    },
    {
      "cell_type": "code",
      "source": [
        "x_train_scaled = x_train.astype('float64') / x_train.max()\n",
        "x_valid_scaled = x_valid.astype('float64') / x_test.max()\n",
        "x_test_scaled = x_test.astype('float64') / x_test.max()\n",
        "\n",
        "# x_train_scaled = ( x_train - x_train.mean() )/ ( x_train.max() - x_train.min() )\n",
        "# x_valid_scaled = ( x_valid - x_valid.mean() )/ ( x_valid.max() - x_valid.min() )\n",
        "# x_test_scaled = ( x_test - x_test.mean() )/ ( x_test.max() - x_test.min() )\n",
        "\n",
        "y_train_encoded = to_categorical(y_train['target']-1, num_classes=3)\n",
        "y_valid_encoded = to_categorical(y_valid['target']-1, num_classes=3)"
      ],
      "metadata": {
        "id": "5vCR0soSAOj_"
      },
      "execution_count": null,
      "outputs": []
    },
    {
      "cell_type": "markdown",
      "source": [
        "## Build Sequential model and train"
      ],
      "metadata": {
        "id": "pxFcR8BhcYb4"
      }
    },
    {
      "cell_type": "code",
      "source": [
        "model = Sequential()\n",
        "model.add(Flatten(input_shape=(44, 52)))\n",
        "model.add(Dense(2048, activation='tanh'))\n",
        "model.add(Dense(2048, activation='relu'))\n",
        "model.add(Dense(2048, activation='tanh'))\n",
        "model.add(Dense(4096, activation='relu'))\n",
        "model.add(Dense(3, activation='softmax'))\n",
        "\n",
        "model.summary()"
      ],
      "metadata": {
        "colab": {
          "base_uri": "https://localhost:8080/"
        },
        "id": "uu0uoiwwGHjr",
        "outputId": "7e617d1e-88e0-4b78-a314-b1431ff60b66"
      },
      "execution_count": null,
      "outputs": [
        {
          "output_type": "stream",
          "name": "stdout",
          "text": [
            "Model: \"sequential\"\n",
            "_________________________________________________________________\n",
            " Layer (type)                Output Shape              Param #   \n",
            "=================================================================\n",
            " flatten (Flatten)           (None, 2288)              0         \n",
            "                                                                 \n",
            " dense (Dense)               (None, 2048)              4687872   \n",
            "                                                                 \n",
            " dense_1 (Dense)             (None, 2048)              4196352   \n",
            "                                                                 \n",
            " dense_2 (Dense)             (None, 2048)              4196352   \n",
            "                                                                 \n",
            " dense_3 (Dense)             (None, 4096)              8392704   \n",
            "                                                                 \n",
            " dense_4 (Dense)             (None, 3)                 12291     \n",
            "                                                                 \n",
            "=================================================================\n",
            "Total params: 21,485,571\n",
            "Trainable params: 21,485,571\n",
            "Non-trainable params: 0\n",
            "_________________________________________________________________\n"
          ]
        }
      ]
    },
    {
      "cell_type": "code",
      "source": [
        "optimizer = Adadelta(learning_rate = 0.1)\n",
        "model.compile(loss='categorical_crossentropy', optimizer=optimizer, metrics=['accuracy'])"
      ],
      "metadata": {
        "id": "W1RdMsHJHVgX"
      },
      "execution_count": null,
      "outputs": []
    },
    {
      "cell_type": "code",
      "source": [
        "history = model.fit(x_train_scaled, y_train_encoded, epochs=50, batch_size=64, validation_split=0.2)"
      ],
      "metadata": {
        "colab": {
          "base_uri": "https://localhost:8080/"
        },
        "id": "AlBw5aefHhyV",
        "outputId": "dde2ed58-9789-47e9-ebe8-f9e6eca04b01"
      },
      "execution_count": null,
      "outputs": [
        {
          "output_type": "stream",
          "name": "stdout",
          "text": [
            "Epoch 1/50\n",
            "83/83 [==============================] - 1s 13ms/step - loss: 0.0715 - accuracy: 0.9777 - val_loss: 0.2106 - val_accuracy: 0.9366\n",
            "Epoch 2/50\n",
            "83/83 [==============================] - 1s 11ms/step - loss: 0.0739 - accuracy: 0.9781 - val_loss: 0.2067 - val_accuracy: 0.9351\n",
            "Epoch 3/50\n",
            "83/83 [==============================] - 1s 12ms/step - loss: 0.0629 - accuracy: 0.9824 - val_loss: 0.1918 - val_accuracy: 0.9381\n",
            "Epoch 4/50\n",
            "83/83 [==============================] - 1s 11ms/step - loss: 0.0698 - accuracy: 0.9783 - val_loss: 0.2367 - val_accuracy: 0.9321\n",
            "Epoch 5/50\n",
            "83/83 [==============================] - 1s 10ms/step - loss: 0.0637 - accuracy: 0.9777 - val_loss: 0.1935 - val_accuracy: 0.9351\n",
            "Epoch 6/50\n",
            "83/83 [==============================] - 1s 10ms/step - loss: 0.0478 - accuracy: 0.9883 - val_loss: 0.2702 - val_accuracy: 0.9147\n",
            "Epoch 7/50\n",
            "83/83 [==============================] - 1s 10ms/step - loss: 0.0570 - accuracy: 0.9804 - val_loss: 0.2150 - val_accuracy: 0.9321\n",
            "Epoch 8/50\n",
            "83/83 [==============================] - 1s 10ms/step - loss: 0.0520 - accuracy: 0.9849 - val_loss: 0.1947 - val_accuracy: 0.9366\n",
            "Epoch 9/50\n",
            "83/83 [==============================] - 1s 11ms/step - loss: 0.0466 - accuracy: 0.9855 - val_loss: 0.2112 - val_accuracy: 0.9343\n",
            "Epoch 10/50\n",
            "83/83 [==============================] - 1s 10ms/step - loss: 0.0401 - accuracy: 0.9896 - val_loss: 0.2662 - val_accuracy: 0.9109\n",
            "Epoch 11/50\n",
            "83/83 [==============================] - 1s 10ms/step - loss: 0.0692 - accuracy: 0.9757 - val_loss: 0.1815 - val_accuracy: 0.9426\n",
            "Epoch 12/50\n",
            "83/83 [==============================] - 1s 10ms/step - loss: 0.0400 - accuracy: 0.9874 - val_loss: 0.2104 - val_accuracy: 0.9366\n",
            "Epoch 13/50\n",
            "83/83 [==============================] - 1s 10ms/step - loss: 0.0421 - accuracy: 0.9862 - val_loss: 0.2081 - val_accuracy: 0.9313\n",
            "Epoch 14/50\n",
            "83/83 [==============================] - 1s 10ms/step - loss: 0.0332 - accuracy: 0.9911 - val_loss: 0.2263 - val_accuracy: 0.9343\n",
            "Epoch 15/50\n",
            "83/83 [==============================] - 1s 10ms/step - loss: 0.0327 - accuracy: 0.9900 - val_loss: 0.2509 - val_accuracy: 0.9185\n",
            "Epoch 16/50\n",
            "83/83 [==============================] - 1s 10ms/step - loss: 0.0414 - accuracy: 0.9877 - val_loss: 0.1904 - val_accuracy: 0.9411\n",
            "Epoch 17/50\n",
            "83/83 [==============================] - 1s 11ms/step - loss: 0.0265 - accuracy: 0.9934 - val_loss: 0.3322 - val_accuracy: 0.9011\n",
            "Epoch 18/50\n",
            "83/83 [==============================] - 1s 11ms/step - loss: 0.0313 - accuracy: 0.9919 - val_loss: 0.1972 - val_accuracy: 0.9374\n",
            "Epoch 19/50\n",
            "83/83 [==============================] - 1s 11ms/step - loss: 0.0257 - accuracy: 0.9923 - val_loss: 0.1986 - val_accuracy: 0.9366\n",
            "Epoch 20/50\n",
            "83/83 [==============================] - 1s 11ms/step - loss: 0.0240 - accuracy: 0.9932 - val_loss: 0.1863 - val_accuracy: 0.9419\n",
            "Epoch 21/50\n",
            "83/83 [==============================] - 1s 10ms/step - loss: 0.0350 - accuracy: 0.9887 - val_loss: 0.2008 - val_accuracy: 0.9389\n",
            "Epoch 22/50\n",
            "83/83 [==============================] - 1s 10ms/step - loss: 0.0195 - accuracy: 0.9949 - val_loss: 0.2078 - val_accuracy: 0.9374\n",
            "Epoch 23/50\n",
            "83/83 [==============================] - 1s 10ms/step - loss: 0.0184 - accuracy: 0.9957 - val_loss: 0.2236 - val_accuracy: 0.9313\n",
            "Epoch 24/50\n",
            "83/83 [==============================] - 1s 11ms/step - loss: 0.0238 - accuracy: 0.9943 - val_loss: 0.2061 - val_accuracy: 0.9419\n",
            "Epoch 25/50\n",
            "83/83 [==============================] - 1s 10ms/step - loss: 0.0227 - accuracy: 0.9941 - val_loss: 0.1925 - val_accuracy: 0.9411\n",
            "Epoch 26/50\n",
            "83/83 [==============================] - 1s 10ms/step - loss: 0.0159 - accuracy: 0.9962 - val_loss: 0.2693 - val_accuracy: 0.9298\n",
            "Epoch 27/50\n",
            "83/83 [==============================] - 1s 10ms/step - loss: 0.0155 - accuracy: 0.9974 - val_loss: 0.2040 - val_accuracy: 0.9381\n",
            "Epoch 28/50\n",
            "83/83 [==============================] - 1s 10ms/step - loss: 0.0176 - accuracy: 0.9957 - val_loss: 0.2458 - val_accuracy: 0.9381\n",
            "Epoch 29/50\n",
            "83/83 [==============================] - 1s 10ms/step - loss: 0.0155 - accuracy: 0.9974 - val_loss: 0.2133 - val_accuracy: 0.9389\n",
            "Epoch 30/50\n",
            "83/83 [==============================] - 1s 11ms/step - loss: 0.0157 - accuracy: 0.9964 - val_loss: 0.2141 - val_accuracy: 0.9396\n",
            "Epoch 31/50\n",
            "83/83 [==============================] - 1s 12ms/step - loss: 0.0120 - accuracy: 0.9983 - val_loss: 0.2075 - val_accuracy: 0.9404\n",
            "Epoch 32/50\n",
            "83/83 [==============================] - 1s 16ms/step - loss: 0.0127 - accuracy: 0.9975 - val_loss: 0.2343 - val_accuracy: 0.9366\n",
            "Epoch 33/50\n",
            "83/83 [==============================] - 2s 29ms/step - loss: 0.0116 - accuracy: 0.9974 - val_loss: 0.2036 - val_accuracy: 0.9464\n",
            "Epoch 34/50\n",
            "83/83 [==============================] - 1s 16ms/step - loss: 0.0110 - accuracy: 0.9977 - val_loss: 0.2220 - val_accuracy: 0.9396\n",
            "Epoch 35/50\n",
            "83/83 [==============================] - 1s 10ms/step - loss: 0.0185 - accuracy: 0.9955 - val_loss: 0.2155 - val_accuracy: 0.9449\n",
            "Epoch 36/50\n",
            "83/83 [==============================] - 1s 10ms/step - loss: 0.0068 - accuracy: 1.0000 - val_loss: 0.2621 - val_accuracy: 0.9291\n",
            "Epoch 37/50\n",
            "83/83 [==============================] - 1s 10ms/step - loss: 0.0150 - accuracy: 0.9964 - val_loss: 0.2301 - val_accuracy: 0.9434\n",
            "Epoch 38/50\n",
            "83/83 [==============================] - 1s 10ms/step - loss: 0.0121 - accuracy: 0.9975 - val_loss: 0.2090 - val_accuracy: 0.9411\n",
            "Epoch 39/50\n",
            "83/83 [==============================] - 1s 10ms/step - loss: 0.0123 - accuracy: 0.9968 - val_loss: 0.2406 - val_accuracy: 0.9313\n",
            "Epoch 40/50\n",
            "83/83 [==============================] - 1s 10ms/step - loss: 0.0082 - accuracy: 0.9989 - val_loss: 0.2021 - val_accuracy: 0.9457\n",
            "Epoch 41/50\n",
            "83/83 [==============================] - 1s 10ms/step - loss: 0.0079 - accuracy: 0.9981 - val_loss: 0.2065 - val_accuracy: 0.9434\n",
            "Epoch 42/50\n",
            "83/83 [==============================] - 1s 10ms/step - loss: 0.0104 - accuracy: 0.9974 - val_loss: 0.2614 - val_accuracy: 0.9358\n",
            "Epoch 43/50\n",
            "83/83 [==============================] - 1s 10ms/step - loss: 0.0084 - accuracy: 0.9983 - val_loss: 0.2293 - val_accuracy: 0.9434\n",
            "Epoch 44/50\n",
            "83/83 [==============================] - 1s 10ms/step - loss: 0.0064 - accuracy: 0.9992 - val_loss: 0.2221 - val_accuracy: 0.9449\n",
            "Epoch 45/50\n",
            "83/83 [==============================] - 1s 10ms/step - loss: 0.0092 - accuracy: 0.9974 - val_loss: 0.2609 - val_accuracy: 0.9298\n",
            "Epoch 46/50\n",
            "83/83 [==============================] - 1s 12ms/step - loss: 0.0061 - accuracy: 0.9994 - val_loss: 0.2341 - val_accuracy: 0.9419\n",
            "Epoch 47/50\n",
            "83/83 [==============================] - 1s 11ms/step - loss: 0.0056 - accuracy: 0.9991 - val_loss: 0.2447 - val_accuracy: 0.9389\n",
            "Epoch 48/50\n",
            "83/83 [==============================] - 1s 12ms/step - loss: 0.0059 - accuracy: 0.9991 - val_loss: 0.2289 - val_accuracy: 0.9419\n",
            "Epoch 49/50\n",
            "83/83 [==============================] - 1s 11ms/step - loss: 0.0051 - accuracy: 0.9992 - val_loss: 0.2239 - val_accuracy: 0.9434\n",
            "Epoch 50/50\n",
            "83/83 [==============================] - 1s 10ms/step - loss: 0.0051 - accuracy: 0.9996 - val_loss: 0.2278 - val_accuracy: 0.9404\n"
          ]
        }
      ]
    },
    {
      "cell_type": "markdown",
      "source": [
        "## Evaluate model"
      ],
      "metadata": {
        "id": "mebO3qbfceTz"
      }
    },
    {
      "cell_type": "code",
      "source": [
        "score = model.evaluate(x_valid_scaled, y_valid_encoded, verbose=0)\n",
        "print(\"Test loss: \", score[0])\n",
        "print(f\"Test accuracy: {score[1]*100} %\")"
      ],
      "metadata": {
        "colab": {
          "base_uri": "https://localhost:8080/"
        },
        "id": "T0H4Er-XXdq6",
        "outputId": "fdd9cd35-9370-46a3-d7c8-0ec20bdd308d"
      },
      "execution_count": null,
      "outputs": [
        {
          "output_type": "stream",
          "name": "stdout",
          "text": [
            "Test loss:  0.18399213254451752\n",
            "Test accuracy: 93.90096664428711 %\n"
          ]
        }
      ]
    },
    {
      "cell_type": "code",
      "source": [
        "clear_session()"
      ],
      "metadata": {
        "id": "XEmlbtP6NQxy"
      },
      "execution_count": null,
      "outputs": []
    },
    {
      "cell_type": "code",
      "source": [
        "plt.figure()\n",
        "plt.plot(history.history['loss'])\n",
        "plt.plot(history.history['val_loss'])\n",
        "\n",
        "plt.figure()\n",
        "plt.plot(history.history['accuracy'])\n",
        "plt.plot(history.history['val_accuracy'])"
      ],
      "metadata": {
        "colab": {
          "base_uri": "https://localhost:8080/",
          "height": 860
        },
        "id": "cITQT_YWIYFV",
        "outputId": "6fa96c53-8a72-4d5b-f6ec-e5544dc9f2dc"
      },
      "execution_count": null,
      "outputs": [
        {
          "output_type": "execute_result",
          "data": {
            "text/plain": [
              "[<matplotlib.lines.Line2D at 0x7f96716f13d0>]"
            ]
          },
          "metadata": {},
          "execution_count": 13
        },
        {
          "output_type": "display_data",
          "data": {
            "text/plain": [
              "<Figure size 640x480 with 1 Axes>"
            ],
            "image/png": "[encoded data removed]"
          },
          "metadata": {}
        },
        {
          "output_type": "display_data",
          "data": {
            "text/plain": [
              "<Figure size 640x480 with 1 Axes>"
            ],
            "image/png": "[encoded data removed]"
          },
          "metadata": {}
        }
      ]
    },
    {
      "cell_type": "markdown",
      "source": [
        "## Predict values"
      ],
      "metadata": {
        "id": "iOAbuheMcgs6"
      }
    },
    {
      "cell_type": "code",
      "source": [
        "predictions = model.predict(x_test_scaled)\n",
        "predictions"
      ],
      "metadata": {
        "colab": {
          "base_uri": "https://localhost:8080/"
        },
        "id": "FZTTpAeVKGH3",
        "outputId": "24c48cd0-d16d-496d-bc3c-025b0341f9eb"
      },
      "execution_count": null,
      "outputs": [
        {
          "output_type": "stream",
          "name": "stdout",
          "text": [
            "111/111 [==============================] - 0s 3ms/step\n"
          ]
        },
        {
          "output_type": "execute_result",
          "data": {
            "text/plain": [
              "array([[8.5865051e-02, 7.0994329e-01, 2.0419163e-01],\n",
              "       [5.1559612e-12, 1.0000000e+00, 1.5024749e-12],\n",
              "       [9.9997127e-01, 2.7697026e-05, 1.0718010e-06],\n",
              "       ...,\n",
              "       [9.9999964e-01, 3.3296760e-07, 2.1528787e-10],\n",
              "       [1.0000000e+00, 1.5842643e-17, 1.4984918e-11],\n",
              "       [9.9984491e-01, 1.7923529e-05, 1.3722848e-04]], dtype=float32)"
            ]
          },
          "metadata": {},
          "execution_count": 271
        }
      ]
    },
    {
      "cell_type": "code",
      "source": [
        "res = pd.DataFrame(predictions, columns=['1','2','3'])\n",
        "results = pd.DataFrame(res.idxmax(axis=1), columns=['target'])\n",
        "results.insert(0, 'id', range(0,3549))\n",
        "# results.drop(columns=results.columns[0], axis=1, inplace=True)\n",
        "results.columns = ['id', 'target']\n",
        "results"
      ],
      "metadata": {
        "colab": {
          "base_uri": "https://localhost:8080/",
          "height": 424
        },
        "id": "FkTl6m8HOXT7",
        "outputId": "de820f0a-28dd-4ec3-81da-cbe47f9f4764"
      },
      "execution_count": null,
      "outputs": [
        {
          "output_type": "execute_result",
          "data": {
            "text/plain": [
              "        id target\n",
              "0        0      2\n",
              "1        1      2\n",
              "2        2      1\n",
              "3        3      3\n",
              "4        4      3\n",
              "...    ...    ...\n",
              "3544  3544      1\n",
              "3545  3545      2\n",
              "3546  3546      1\n",
              "3547  3547      1\n",
              "3548  3548      1\n",
              "\n",
              "[3549 rows x 2 columns]"
            ],
            "text/html": [
              "\n",
              "  <div id=\"df-1fd3005b-0092-449f-a30a-dee7ade9a676\">\n",
              "    <div class=\"colab-df-container\">\n",
              "      <div>\n",
              "<style scoped>\n",
              "    .dataframe tbody tr th:only-of-type {\n",
              "        vertical-align: middle;\n",
              "    }\n",
              "\n",
              "    .dataframe tbody tr th {\n",
              "        vertical-align: top;\n",
              "    }\n",
              "\n",
              "    .dataframe thead th {\n",
              "        text-align: right;\n",
              "    }\n",
              "</style>\n",
              "<table border=\"1\" class=\"dataframe\">\n",
              "  <thead>\n",
              "    <tr style=\"text-align: right;\">\n",
              "      <th></th>\n",
              "      <th>id</th>\n",
              "      <th>target</th>\n",
              "    </tr>\n",
              "  </thead>\n",
              "  <tbody>\n",
              "    <tr>\n",
              "      <th>0</th>\n",
              "      <td>0</td>\n",
              "      <td>2</td>\n",
              "    </tr>\n",
              "    <tr>\n",
              "      <th>1</th>\n",
              "      <td>1</td>\n",
              "      <td>2</td>\n",
              "    </tr>\n",
              "    <tr>\n",
              "      <th>2</th>\n",
              "      <td>2</td>\n",
              "      <td>1</td>\n",
              "    </tr>\n",
              "    <tr>\n",
              "      <th>3</th>\n",
              "      <td>3</td>\n",
              "      <td>3</td>\n",
              "    </tr>\n",
              "    <tr>\n",
              "      <th>4</th>\n",
              "      <td>4</td>\n",
              "      <td>3</td>\n",
              "    </tr>\n",
              "    <tr>\n",
              "      <th>...</th>\n",
              "      <td>...</td>\n",
              "      <td>...</td>\n",
              "    </tr>\n",
              "    <tr>\n",
              "      <th>3544</th>\n",
              "      <td>3544</td>\n",
              "      <td>1</td>\n",
              "    </tr>\n",
              "    <tr>\n",
              "      <th>3545</th>\n",
              "      <td>3545</td>\n",
              "      <td>2</td>\n",
              "    </tr>\n",
              "    <tr>\n",
              "      <th>3546</th>\n",
              "      <td>3546</td>\n",
              "      <td>1</td>\n",
              "    </tr>\n",
              "    <tr>\n",
              "      <th>3547</th>\n",
              "      <td>3547</td>\n",
              "      <td>1</td>\n",
              "    </tr>\n",
              "    <tr>\n",
              "      <th>3548</th>\n",
              "      <td>3548</td>\n",
              "      <td>1</td>\n",
              "    </tr>\n",
              "  </tbody>\n",
              "</table>\n",
              "<p>3549 rows × 2 columns</p>\n",
              "</div>\n",
              "      <button class=\"colab-df-convert\" onclick=\"convertToInteractive('df-1fd3005b-0092-449f-a30a-dee7ade9a676')\"\n",
              "              title=\"Convert this dataframe to an interactive table.\"\n",
              "              style=\"display:none;\">\n",
              "        \n",
              "  <svg xmlns=\"http://www.w3.org/2000/svg\" height=\"24px\"viewBox=\"0 0 24 24\"\n",
              "       width=\"24px\">\n",
              "    <path d=\"M0 0h24v24H0V0z\" fill=\"none\"/>\n",
              "    <path d=\"M18.56 5.44l.94 2.06.94-2.06 2.06-.94-2.06-.94-.94-2.06-.94 2.06-2.06.94zm-11 1L8.5 8.5l.94-2.06 2.06-.94-2.06-.94L8.5 2.5l-.94 2.06-2.06.94zm10 10l.94 2.06.94-2.06 2.06-.94-2.06-.94-.94-2.06-.94 2.06-2.06.94z\"/><path d=\"M17.41 7.96l-1.37-1.37c-.4-.4-.92-.59-1.43-.59-.52 0-1.04.2-1.43.59L10.3 9.45l-7.72 7.72c-.78.78-.78 2.05 0 2.83L4 21.41c.39.39.9.59 1.41.59.51 0 1.02-.2 1.41-.59l7.78-7.78 2.81-2.81c.8-.78.8-2.07 0-2.86zM5.41 20L4 18.59l7.72-7.72 1.47 1.35L5.41 20z\"/>\n",
              "  </svg>\n",
              "      </button>\n",
              "      \n",
              "  <style>\n",
              "    .colab-df-container {\n",
              "      display:flex;\n",
              "      flex-wrap:wrap;\n",
              "      gap: 12px;\n",
              "    }\n",
              "\n",
              "    .colab-df-convert {\n",
              "      background-color: #E8F0FE;\n",
              "      border: none;\n",
              "      border-radius: 50%;\n",
              "      cursor: pointer;\n",
              "      display: none;\n",
              "      fill: #1967D2;\n",
              "      height: 32px;\n",
              "      padding: 0 0 0 0;\n",
              "      width: 32px;\n",
              "    }\n",
              "\n",
              "    .colab-df-convert:hover {\n",
              "      background-color: #E2EBFA;\n",
              "      box-shadow: 0px 1px 2px rgba(60, 64, 67, 0.3), 0px 1px 3px 1px rgba(60, 64, 67, 0.15);\n",
              "      fill: #174EA6;\n",
              "    }\n",
              "\n",
              "    [theme=dark] .colab-df-convert {\n",
              "      background-color: #3B4455;\n",
              "      fill: #D2E3FC;\n",
              "    }\n",
              "\n",
              "    [theme=dark] .colab-df-convert:hover {\n",
              "      background-color: #434B5C;\n",
              "      box-shadow: 0px 1px 3px 1px rgba(0, 0, 0, 0.15);\n",
              "      filter: drop-shadow(0px 1px 2px rgba(0, 0, 0, 0.3));\n",
              "      fill: #FFFFFF;\n",
              "    }\n",
              "  </style>\n",
              "\n",
              "      <script>\n",
              "        const buttonEl =\n",
              "          document.querySelector('#df-1fd3005b-0092-449f-a30a-dee7ade9a676 button.colab-df-convert');\n",
              "        buttonEl.style.display =\n",
              "          google.colab.kernel.accessAllowed ? 'block' : 'none';\n",
              "\n",
              "        async function convertToInteractive(key) {\n",
              "          const element = document.querySelector('#df-1fd3005b-0092-449f-a30a-dee7ade9a676');\n",
              "          const dataTable =\n",
              "            await google.colab.kernel.invokeFunction('convertToInteractive',\n",
              "                                                     [key], {});\n",
              "          if (!dataTable) return;\n",
              "\n",
              "          const docLinkHtml = 'Like what you see? Visit the ' +\n",
              "            '<a target=\"_blank\" href=https://colab.research.google.com/notebooks/data_table.ipynb>data table notebook</a>'\n",
              "            + ' to learn more about interactive tables.';\n",
              "          element.innerHTML = '';\n",
              "          dataTable['output_type'] = 'display_data';\n",
              "          await google.colab.output.renderOutput(dataTable, element);\n",
              "          const docLink = document.createElement('div');\n",
              "          docLink.innerHTML = docLinkHtml;\n",
              "          element.appendChild(docLink);\n",
              "        }\n",
              "      </script>\n",
              "    </div>\n",
              "  </div>\n",
              "  "
            ]
          },
          "metadata": {},
          "execution_count": 272
        }
      ]
    },
    {
      "cell_type": "code",
      "source": [
        "from google.colab import files\n",
        "results[['id', 'target']].to_csv('output.csv', index=False)\n",
        "files.download('output.csv')"
      ],
      "metadata": {
        "colab": {
          "base_uri": "https://localhost:8080/",
          "height": 17
        },
        "id": "o6PgVZBnOgxS",
        "outputId": "bcfbbcb7-079a-47a0-950e-5d906986f3c0"
      },
      "execution_count": null,
      "outputs": [
        {
          "output_type": "display_data",
          "data": {
            "text/plain": [
              "<IPython.core.display.Javascript object>"
            ],
            "application/javascript": [
              "\n",
              "    async function download(id, filename, size) {\n",
              "      if (!google.colab.kernel.accessAllowed) {\n",
              "        return;\n",
              "      }\n",
              "      const div = document.createElement('div');\n",
              "      const label = document.createElement('label');\n",
              "      label.textContent = `Downloading \"${filename}\": `;\n",
              "      div.appendChild(label);\n",
              "      const progress = document.createElement('progress');\n",
              "      progress.max = size;\n",
              "      div.appendChild(progress);\n",
              "      document.body.appendChild(div);\n",
              "\n",
              "      const buffers = [];\n",
              "      let downloaded = 0;\n",
              "\n",
              "      const channel = await google.colab.kernel.comms.open(id);\n",
              "      // Send a message to notify the kernel that we're ready.\n",
              "      channel.send({})\n",
              "\n",
              "      for await (const message of channel.messages) {\n",
              "        // Send a message to notify the kernel that we're ready.\n",
              "        channel.send({})\n",
              "        if (message.buffers) {\n",
              "          for (const buffer of message.buffers) {\n",
              "            buffers.push(buffer);\n",
              "            downloaded += buffer.byteLength;\n",
              "            progress.value = downloaded;\n",
              "          }\n",
              "        }\n",
              "      }\n",
              "      const blob = new Blob(buffers, {type: 'application/binary'});\n",
              "      const a = document.createElement('a');\n",
              "      a.href = window.URL.createObjectURL(blob);\n",
              "      a.download = filename;\n",
              "      div.appendChild(a);\n",
              "      a.click();\n",
              "      div.remove();\n",
              "    }\n",
              "  "
            ]
          },
          "metadata": {}
        },
        {
          "output_type": "display_data",
          "data": {
            "text/plain": [
              "<IPython.core.display.Javascript object>"
            ],
            "application/javascript": [
              "download(\"download_3f1aee0a-f123-4b7e-8466-ac0125be934b\", \"output.csv\", 23743)"
            ]
          },
          "metadata": {}
        }
      ]
    },
    {
      "cell_type": "markdown",
      "source": [
        "## Try tuner for finging optimal model structure"
      ],
      "metadata": {
        "id": "5ozKxmEkclGX"
      }
    },
    {
      "cell_type": "code",
      "source": [
        "!pip install -q -U keras-tuner\n",
        "import keras_tuner as kt"
      ],
      "metadata": {
        "id": "GEG39VCE3yBR"
      },
      "execution_count": null,
      "outputs": []
    },
    {
      "cell_type": "code",
      "source": [
        "def build_model(hp):\n",
        "  model = Sequential()\n",
        "  model.add(Flatten(input_shape=(44, 52)))\n",
        "\n",
        "  for i in range(hp.Int('num_layers', min_value=1, max_value=12)):\n",
        "    model.add(Dense(units=hp.Int('units' + str(i), min_value=32, max_value=2048, step=64), \n",
        "                    activation=hp.Choice('activation_' + str(i), values=['relu', 'tanh', 'sigmoid', 'gelu', 'elu'])))\n",
        "    model.add(Dropout(hp.Float('dropout_' + str(i), min_value=0.0, max_value=0.5, step=0.1)))\n",
        "\n",
        "  model.add(Dense(3, activation='softmax'))\n",
        "\n",
        "  optimizer = Adadelta(hp.Choice('learning_rate', values=[1.0, 0.1, 0.01]))\n",
        "\n",
        "  model.compile(loss='categorical_crossentropy', optimizer=optimizer, metrics=['accuracy'])\n",
        "\n",
        "  return model\n",
        "\n",
        "tuner = kt.Hyperband(\n",
        "    build_model,\n",
        "    objective='val_accuracy',\n",
        "    max_epochs=50,\n",
        "    factor=4\n",
        ")\n",
        "\n",
        "tuner.search(x_train_scaled, y_train_encoded, epochs=50, validation_split=0.2)"
      ],
      "metadata": {
        "colab": {
          "base_uri": "https://localhost:8080/"
        },
        "id": "CgMOGtC74Goe",
        "outputId": "537fa0e5-8c20-4eec-dff2-4235ebf551b9"
      },
      "execution_count": null,
      "outputs": [
        {
          "output_type": "stream",
          "name": "stdout",
          "text": [
            "Trial 44 Complete [00h 00m 46s]\n",
            "val_accuracy: 0.9641509652137756\n",
            "\n",
            "Best val_accuracy So Far: 0.9641509652137756\n",
            "Total elapsed time: 00h 10m 38s\n"
          ]
        }
      ]
    },
    {
      "cell_type": "code",
      "source": [
        "# Get the best set of hyperparameters\n",
        "best_hps = tuner.get_best_hyperparameters(num_trials=1)[0]\n",
        "\n",
        "# Build the model using the best hyperparameters\n",
        "model = tuner.hypermodel.build(best_hps)\n",
        "\n",
        "# Train the model using the best hyperparameters\n",
        "history = model.fit(x_train_scaled, y_train_encoded, epochs=20, validation_split=0.2)\n",
        "\n",
        "# Evaluate the model on the test data\n",
        "test_loss, test_acc = model.evaluate(x_valid_scaled, y_valid_encoded)\n",
        "\n",
        "print('Test accuracy:', test_acc)"
      ],
      "metadata": {
        "colab": {
          "base_uri": "https://localhost:8080/"
        },
        "id": "TGa6-0-I9BbY",
        "outputId": "75f1bebc-0d80-4625-edba-d10aa4856179"
      },
      "execution_count": null,
      "outputs": [
        {
          "output_type": "stream",
          "name": "stdout",
          "text": [
            "Epoch 1/20\n",
            "133/133 [==============================] - 3s 16ms/step - loss: 1.0432 - accuracy: 0.4601 - val_loss: 1.3439 - val_accuracy: 0.4500\n",
            "Epoch 2/20\n",
            "133/133 [==============================] - 2s 14ms/step - loss: 0.9224 - accuracy: 0.5380 - val_loss: 0.7746 - val_accuracy: 0.6085\n",
            "Epoch 3/20\n",
            "133/133 [==============================] - 1s 9ms/step - loss: 0.7900 - accuracy: 0.6298 - val_loss: 0.6654 - val_accuracy: 0.7066\n",
            "Epoch 4/20\n",
            "133/133 [==============================] - 1s 10ms/step - loss: 0.6803 - accuracy: 0.7034 - val_loss: 1.0480 - val_accuracy: 0.5292\n",
            "Epoch 5/20\n",
            "133/133 [==============================] - 1s 9ms/step - loss: 0.6031 - accuracy: 0.7412 - val_loss: 0.8659 - val_accuracy: 0.5868\n",
            "Epoch 6/20\n",
            "133/133 [==============================] - 1s 9ms/step - loss: 0.5221 - accuracy: 0.7817 - val_loss: 0.5047 - val_accuracy: 0.7840\n",
            "Epoch 7/20\n",
            "133/133 [==============================] - 1s 8ms/step - loss: 0.4391 - accuracy: 0.8259 - val_loss: 0.5455 - val_accuracy: 0.7896\n",
            "Epoch 8/20\n",
            "133/133 [==============================] - 1s 10ms/step - loss: 0.4100 - accuracy: 0.8395 - val_loss: 0.3853 - val_accuracy: 0.8698\n",
            "Epoch 9/20\n",
            "133/133 [==============================] - 1s 10ms/step - loss: 0.3518 - accuracy: 0.8650 - val_loss: 0.3295 - val_accuracy: 0.8821\n",
            "Epoch 10/20\n",
            "133/133 [==============================] - 2s 12ms/step - loss: 0.2898 - accuracy: 0.8889 - val_loss: 0.3989 - val_accuracy: 0.8481\n",
            "Epoch 11/20\n",
            "133/133 [==============================] - 2s 14ms/step - loss: 0.2552 - accuracy: 0.9044 - val_loss: 0.3037 - val_accuracy: 0.8934\n",
            "Epoch 12/20\n",
            "133/133 [==============================] - 2s 16ms/step - loss: 0.2152 - accuracy: 0.9221 - val_loss: 0.2752 - val_accuracy: 0.9038\n",
            "Epoch 13/20\n",
            "133/133 [==============================] - 1s 9ms/step - loss: 0.1927 - accuracy: 0.9309 - val_loss: 0.3416 - val_accuracy: 0.8858\n",
            "Epoch 14/20\n",
            "133/133 [==============================] - 1s 9ms/step - loss: 0.1624 - accuracy: 0.9394 - val_loss: 0.2832 - val_accuracy: 0.8934\n",
            "Epoch 15/20\n",
            "133/133 [==============================] - 1s 10ms/step - loss: 0.1265 - accuracy: 0.9545 - val_loss: 0.5173 - val_accuracy: 0.8217\n",
            "Epoch 16/20\n",
            "133/133 [==============================] - 1s 10ms/step - loss: 0.1323 - accuracy: 0.9580 - val_loss: 0.2282 - val_accuracy: 0.9255\n",
            "Epoch 17/20\n",
            "133/133 [==============================] - 1s 9ms/step - loss: 0.1096 - accuracy: 0.9618 - val_loss: 0.2597 - val_accuracy: 0.9179\n",
            "Epoch 18/20\n",
            "133/133 [==============================] - 1s 8ms/step - loss: 0.0864 - accuracy: 0.9726 - val_loss: 0.2070 - val_accuracy: 0.9443\n",
            "Epoch 19/20\n",
            "133/133 [==============================] - 1s 6ms/step - loss: 0.0712 - accuracy: 0.9738 - val_loss: 0.3013 - val_accuracy: 0.9217\n",
            "Epoch 20/20\n",
            "133/133 [==============================] - 1s 5ms/step - loss: 0.0656 - accuracy: 0.9783 - val_loss: 0.5582 - val_accuracy: 0.8698\n",
            "42/42 [==============================] - 0s 4ms/step - loss: 0.5001 - accuracy: 0.8694\n",
            "Test accuracy: 0.8694339394569397\n"
          ]
        }
      ]
    },
    {
      "cell_type": "markdown",
      "source": [
        "## Create CNN model with 2D convolution"
      ],
      "metadata": {
        "id": "Pr2dFbHRcrPZ"
      }
    },
    {
      "cell_type": "code",
      "source": [
        "from tensorflow import keras\n",
        "from tensorflow.keras import layers"
      ],
      "metadata": {
        "id": "wM4SyH74WbQ8"
      },
      "execution_count": null,
      "outputs": []
    },
    {
      "cell_type": "code",
      "source": [
        "model = keras.Sequential(\n",
        "    [\n",
        "        keras.Input(shape=(44,52,1)),\n",
        "        layers.Conv2D(16, kernel_size=(3, 3), activation=\"relu\"),\n",
        "        layers.MaxPooling2D(pool_size=(2, 2)),\n",
        "        layers.Conv2D(32, kernel_size=(3, 3), activation=\"relu\"),\n",
        "        layers.MaxPooling2D(pool_size=(2, 2)),\n",
        "        layers.Conv2D(64, kernel_size=(3, 3), activation=\"relu\"),\n",
        "        layers.MaxPooling2D(pool_size=(2, 2)),\n",
        "        layers.Flatten(),\n",
        "        layers.Dropout(0.5),\n",
        "        layers.Dense(512, activation=\"tanh\"),\n",
        "        layers.Dense(2048, activation=\"relu\"),\n",
        "        layers.Dense(3, activation=\"softmax\"),\n",
        "    ]\n",
        ")\n",
        "\n",
        "model.summary()"
      ],
      "metadata": {
        "colab": {
          "base_uri": "https://localhost:8080/"
        },
        "id": "SVync4OSS9y0",
        "outputId": "94ebb425-b00b-4521-d36e-32cc650136ef"
      },
      "execution_count": null,
      "outputs": [
        {
          "output_type": "stream",
          "name": "stdout",
          "text": [
            "Model: \"sequential_1\"\n",
            "_________________________________________________________________\n",
            " Layer (type)                Output Shape              Param #   \n",
            "=================================================================\n",
            " conv2d_3 (Conv2D)           (None, 42, 50, 16)        160       \n",
            "                                                                 \n",
            " max_pooling2d_3 (MaxPooling  (None, 21, 25, 16)       0         \n",
            " 2D)                                                             \n",
            "                                                                 \n",
            " conv2d_4 (Conv2D)           (None, 19, 23, 32)        4640      \n",
            "                                                                 \n",
            " max_pooling2d_4 (MaxPooling  (None, 9, 11, 32)        0         \n",
            " 2D)                                                             \n",
            "                                                                 \n",
            " conv2d_5 (Conv2D)           (None, 7, 9, 64)          18496     \n",
            "                                                                 \n",
            " max_pooling2d_5 (MaxPooling  (None, 3, 4, 64)         0         \n",
            " 2D)                                                             \n",
            "                                                                 \n",
            " flatten_1 (Flatten)         (None, 768)               0         \n",
            "                                                                 \n",
            " dropout_1 (Dropout)         (None, 768)               0         \n",
            "                                                                 \n",
            " dense_3 (Dense)             (None, 512)               393728    \n",
            "                                                                 \n",
            " dense_4 (Dense)             (None, 2048)              1050624   \n",
            "                                                                 \n",
            " dense_5 (Dense)             (None, 3)                 6147      \n",
            "                                                                 \n",
            "=================================================================\n",
            "Total params: 1,473,795\n",
            "Trainable params: 1,473,795\n",
            "Non-trainable params: 0\n",
            "_________________________________________________________________\n"
          ]
        }
      ]
    },
    {
      "cell_type": "code",
      "source": [
        "optimizer = SGD(learning_rate = 0.1)\n",
        "model.compile(loss=\"categorical_crossentropy\", optimizer=optimizer, metrics=[\"accuracy\"])"
      ],
      "metadata": {
        "id": "-LSojzbRWA81"
      },
      "execution_count": null,
      "outputs": []
    },
    {
      "cell_type": "code",
      "source": [
        "history = model.fit(x_train_scaled, y_train_encoded, batch_size=64, epochs=50, validation_split=0.2)"
      ],
      "metadata": {
        "colab": {
          "base_uri": "https://localhost:8080/"
        },
        "id": "vZmThkTPXEFD",
        "outputId": "bfff5237-2f7a-4e36-c2e4-da1f76f17389"
      },
      "execution_count": null,
      "outputs": [
        {
          "output_type": "stream",
          "name": "stdout",
          "text": [
            "Epoch 1/50\n",
            "83/83 [==============================] - 1s 13ms/step - loss: 0.1140 - accuracy: 0.9585 - val_loss: 0.1081 - val_accuracy: 0.9623\n",
            "Epoch 2/50\n",
            "83/83 [==============================] - 1s 6ms/step - loss: 0.1056 - accuracy: 0.9606 - val_loss: 0.1163 - val_accuracy: 0.9577\n",
            "Epoch 3/50\n",
            "83/83 [==============================] - 1s 6ms/step - loss: 0.1041 - accuracy: 0.9619 - val_loss: 0.1007 - val_accuracy: 0.9698\n",
            "Epoch 4/50\n",
            "83/83 [==============================] - 0s 5ms/step - loss: 0.1059 - accuracy: 0.9602 - val_loss: 0.1530 - val_accuracy: 0.9547\n",
            "Epoch 5/50\n",
            "83/83 [==============================] - 0s 5ms/step - loss: 0.1206 - accuracy: 0.9545 - val_loss: 0.1017 - val_accuracy: 0.9721\n",
            "Epoch 6/50\n",
            "83/83 [==============================] - 0s 5ms/step - loss: 0.0982 - accuracy: 0.9662 - val_loss: 0.3599 - val_accuracy: 0.8725\n",
            "Epoch 7/50\n",
            "83/83 [==============================] - 0s 5ms/step - loss: 0.1187 - accuracy: 0.9587 - val_loss: 0.1325 - val_accuracy: 0.9570\n",
            "Epoch 8/50\n",
            "83/83 [==============================] - 0s 5ms/step - loss: 0.0945 - accuracy: 0.9655 - val_loss: 0.1198 - val_accuracy: 0.9608\n",
            "Epoch 9/50\n",
            "83/83 [==============================] - 0s 5ms/step - loss: 0.1272 - accuracy: 0.9515 - val_loss: 0.1050 - val_accuracy: 0.9706\n",
            "Epoch 10/50\n",
            "83/83 [==============================] - 0s 5ms/step - loss: 0.0954 - accuracy: 0.9619 - val_loss: 0.1061 - val_accuracy: 0.9675\n",
            "Epoch 11/50\n",
            "83/83 [==============================] - 0s 5ms/step - loss: 0.0984 - accuracy: 0.9615 - val_loss: 0.0902 - val_accuracy: 0.9698\n",
            "Epoch 12/50\n",
            "83/83 [==============================] - 0s 5ms/step - loss: 0.0980 - accuracy: 0.9655 - val_loss: 0.1097 - val_accuracy: 0.9713\n",
            "Epoch 13/50\n",
            "83/83 [==============================] - 0s 5ms/step - loss: 0.0925 - accuracy: 0.9662 - val_loss: 0.1064 - val_accuracy: 0.9691\n",
            "Epoch 14/50\n",
            "83/83 [==============================] - 0s 5ms/step - loss: 0.0884 - accuracy: 0.9673 - val_loss: 0.1025 - val_accuracy: 0.9683\n",
            "Epoch 15/50\n",
            "83/83 [==============================] - 0s 5ms/step - loss: 0.0956 - accuracy: 0.9651 - val_loss: 0.1215 - val_accuracy: 0.9623\n",
            "Epoch 16/50\n",
            "83/83 [==============================] - 0s 5ms/step - loss: 0.1537 - accuracy: 0.9441 - val_loss: 0.1134 - val_accuracy: 0.9638\n",
            "Epoch 17/50\n",
            "83/83 [==============================] - 1s 8ms/step - loss: 0.0965 - accuracy: 0.9649 - val_loss: 0.0937 - val_accuracy: 0.9691\n",
            "Epoch 18/50\n",
            "83/83 [==============================] - 1s 8ms/step - loss: 0.1000 - accuracy: 0.9632 - val_loss: 0.1034 - val_accuracy: 0.9698\n",
            "Epoch 19/50\n",
            "83/83 [==============================] - 1s 7ms/step - loss: 0.0875 - accuracy: 0.9681 - val_loss: 0.1120 - val_accuracy: 0.9638\n",
            "Epoch 20/50\n",
            "83/83 [==============================] - 1s 8ms/step - loss: 0.0802 - accuracy: 0.9685 - val_loss: 0.1339 - val_accuracy: 0.9555\n",
            "Epoch 21/50\n",
            "83/83 [==============================] - 1s 7ms/step - loss: 0.0970 - accuracy: 0.9636 - val_loss: 0.0959 - val_accuracy: 0.9698\n",
            "Epoch 22/50\n",
            "83/83 [==============================] - 1s 8ms/step - loss: 0.0890 - accuracy: 0.9694 - val_loss: 0.0976 - val_accuracy: 0.9675\n",
            "Epoch 23/50\n",
            "83/83 [==============================] - 1s 6ms/step - loss: 0.0915 - accuracy: 0.9655 - val_loss: 0.1016 - val_accuracy: 0.9675\n",
            "Epoch 24/50\n",
            "83/83 [==============================] - 1s 7ms/step - loss: 0.0844 - accuracy: 0.9698 - val_loss: 0.0940 - val_accuracy: 0.9698\n",
            "Epoch 25/50\n",
            "83/83 [==============================] - 0s 5ms/step - loss: 0.0782 - accuracy: 0.9709 - val_loss: 0.1087 - val_accuracy: 0.9675\n",
            "Epoch 26/50\n",
            "83/83 [==============================] - 0s 5ms/step - loss: 0.0805 - accuracy: 0.9704 - val_loss: 0.0916 - val_accuracy: 0.9713\n",
            "Epoch 27/50\n",
            "83/83 [==============================] - 0s 5ms/step - loss: 0.0816 - accuracy: 0.9696 - val_loss: 0.0935 - val_accuracy: 0.9675\n",
            "Epoch 28/50\n",
            "83/83 [==============================] - 0s 5ms/step - loss: 0.0816 - accuracy: 0.9700 - val_loss: 0.0940 - val_accuracy: 0.9713\n",
            "Epoch 29/50\n",
            "83/83 [==============================] - 0s 5ms/step - loss: 0.0766 - accuracy: 0.9694 - val_loss: 0.1051 - val_accuracy: 0.9683\n",
            "Epoch 30/50\n",
            "83/83 [==============================] - 1s 6ms/step - loss: 0.0777 - accuracy: 0.9704 - val_loss: 0.1081 - val_accuracy: 0.9683\n",
            "Epoch 31/50\n",
            "83/83 [==============================] - 0s 5ms/step - loss: 0.0690 - accuracy: 0.9747 - val_loss: 0.1010 - val_accuracy: 0.9691\n",
            "Epoch 32/50\n",
            "83/83 [==============================] - 0s 5ms/step - loss: 0.0732 - accuracy: 0.9732 - val_loss: 0.0976 - val_accuracy: 0.9698\n",
            "Epoch 33/50\n",
            "83/83 [==============================] - 0s 5ms/step - loss: 0.0664 - accuracy: 0.9751 - val_loss: 0.0925 - val_accuracy: 0.9691\n",
            "Epoch 34/50\n",
            "83/83 [==============================] - 0s 5ms/step - loss: 0.0743 - accuracy: 0.9707 - val_loss: 0.0950 - val_accuracy: 0.9645\n",
            "Epoch 35/50\n",
            "83/83 [==============================] - 0s 5ms/step - loss: 0.0727 - accuracy: 0.9743 - val_loss: 0.1213 - val_accuracy: 0.9653\n",
            "Epoch 36/50\n",
            "83/83 [==============================] - 0s 5ms/step - loss: 0.0653 - accuracy: 0.9762 - val_loss: 0.0928 - val_accuracy: 0.9736\n",
            "Epoch 37/50\n",
            "83/83 [==============================] - 0s 5ms/step - loss: 0.0690 - accuracy: 0.9732 - val_loss: 0.0812 - val_accuracy: 0.9721\n",
            "Epoch 38/50\n",
            "83/83 [==============================] - 0s 5ms/step - loss: 0.0870 - accuracy: 0.9662 - val_loss: 0.0821 - val_accuracy: 0.9728\n",
            "Epoch 39/50\n",
            "83/83 [==============================] - 0s 5ms/step - loss: 0.0755 - accuracy: 0.9707 - val_loss: 0.0845 - val_accuracy: 0.9706\n",
            "Epoch 40/50\n",
            "83/83 [==============================] - 0s 5ms/step - loss: 0.0724 - accuracy: 0.9736 - val_loss: 0.1125 - val_accuracy: 0.9660\n",
            "Epoch 41/50\n",
            "83/83 [==============================] - 0s 5ms/step - loss: 0.0648 - accuracy: 0.9764 - val_loss: 0.1003 - val_accuracy: 0.9668\n",
            "Epoch 42/50\n",
            "83/83 [==============================] - 0s 6ms/step - loss: 0.0743 - accuracy: 0.9719 - val_loss: 0.1062 - val_accuracy: 0.9668\n",
            "Epoch 43/50\n",
            "83/83 [==============================] - 0s 5ms/step - loss: 0.0685 - accuracy: 0.9732 - val_loss: 0.1007 - val_accuracy: 0.9653\n",
            "Epoch 44/50\n",
            "83/83 [==============================] - 0s 5ms/step - loss: 0.0712 - accuracy: 0.9755 - val_loss: 0.0785 - val_accuracy: 0.9751\n",
            "Epoch 45/50\n",
            "83/83 [==============================] - 1s 8ms/step - loss: 0.0681 - accuracy: 0.9747 - val_loss: 0.0728 - val_accuracy: 0.9751\n",
            "Epoch 46/50\n",
            "83/83 [==============================] - 1s 8ms/step - loss: 0.0721 - accuracy: 0.9751 - val_loss: 0.0837 - val_accuracy: 0.9698\n",
            "Epoch 47/50\n",
            "83/83 [==============================] - 1s 7ms/step - loss: 0.0608 - accuracy: 0.9794 - val_loss: 0.0850 - val_accuracy: 0.9713\n",
            "Epoch 48/50\n",
            "83/83 [==============================] - 1s 7ms/step - loss: 0.0620 - accuracy: 0.9790 - val_loss: 0.0873 - val_accuracy: 0.9691\n",
            "Epoch 49/50\n",
            "83/83 [==============================] - 1s 8ms/step - loss: 0.0625 - accuracy: 0.9789 - val_loss: 0.0832 - val_accuracy: 0.9706\n",
            "Epoch 50/50\n",
            "83/83 [==============================] - 1s 9ms/step - loss: 0.0577 - accuracy: 0.9789 - val_loss: 0.1001 - val_accuracy: 0.9706\n"
          ]
        }
      ]
    },
    {
      "cell_type": "markdown",
      "source": [
        "## Evaluate model"
      ],
      "metadata": {
        "id": "RJW70TuIcwuH"
      }
    },
    {
      "cell_type": "code",
      "source": [
        "score = model.evaluate(x_valid_scaled, y_valid_encoded)\n",
        "print('Test score:', score[0])\n",
        "print('Test accuracy:', score[1])"
      ],
      "metadata": {
        "colab": {
          "base_uri": "https://localhost:8080/"
        },
        "id": "j7xvvn4IXXys",
        "outputId": "fa44fa92-a847-41b9-fb61-6597c505b7b7"
      },
      "execution_count": null,
      "outputs": [
        {
          "output_type": "stream",
          "name": "stdout",
          "text": [
            "52/52 [==============================] - 0s 3ms/step - loss: 0.1083 - accuracy: 0.9662\n",
            "Test score: 0.10830500721931458\n",
            "Test accuracy: 0.966183602809906\n"
          ]
        }
      ]
    },
    {
      "cell_type": "code",
      "source": [
        "plt.figure()\n",
        "plt.plot(history.history['loss'])\n",
        "plt.plot(history.history['val_loss'])\n",
        "\n",
        "plt.figure()\n",
        "plt.plot(history.history['accuracy'])\n",
        "plt.plot(history.history['val_accuracy'])"
      ],
      "metadata": {
        "colab": {
          "base_uri": "https://localhost:8080/",
          "height": 860
        },
        "id": "Ugibo8Fb4Ooz",
        "outputId": "034bfd83-8da2-458b-dbaf-eb5a6315f5ab"
      },
      "execution_count": null,
      "outputs": [
        {
          "output_type": "execute_result",
          "data": {
            "text/plain": [
              "[<matplotlib.lines.Line2D at 0x7f96c43cebb0>]"
            ]
          },
          "metadata": {},
          "execution_count": 20
        },
        {
          "output_type": "display_data",
          "data": {
            "text/plain": [
              "<Figure size 640x480 with 1 Axes>"
            ],
            "image/png": "[encoded data removed]"
          },
          "metadata": {}
        },
        {
          "output_type": "display_data",
          "data": {
            "text/plain": [
              "<Figure size 640x480 with 1 Axes>"
            ],
            "image/png": "[encoded data removed]"
          },
          "metadata": {}
        }
      ]
    },
    {
      "cell_type": "code",
      "source": [
        "clear_session()"
      ],
      "metadata": {
        "id": "6fMvGPHCYbHo"
      },
      "execution_count": null,
      "outputs": []
    }
  ]
}